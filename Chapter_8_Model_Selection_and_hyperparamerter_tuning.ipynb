{
 "cells": [
  {
   "cell_type": "markdown",
   "id": "14b3c09c",
   "metadata": {},
   "source": [
    "## Chapter 8: Model Selection and hyperparameter tuning\n",
    "\n",
    "Python and sklearn version used for this notebook"
   ]
  },
  {
   "cell_type": "code",
   "execution_count": 1,
   "id": "6e122d4f",
   "metadata": {},
   "outputs": [
    {
     "name": "stdout",
     "output_type": "stream",
     "text": [
      "3.11.3 | packaged by Anaconda, Inc. | (main, Apr 19 2023, 23:46:34) [MSC v.1916 64 bit (AMD64)]\n"
     ]
    }
   ],
   "source": [
    "import sys\n",
    "\n",
    "# Print the version of Python\n",
    "print(sys.version)"
   ]
  },
  {
   "cell_type": "code",
   "execution_count": 2,
   "id": "22c4fe5d",
   "metadata": {},
   "outputs": [
    {
     "data": {
      "text/plain": [
       "'1.2.2'"
      ]
     },
     "execution_count": 2,
     "metadata": {},
     "output_type": "execute_result"
    }
   ],
   "source": [
    "import sklearn\n",
    "\n",
    "# Print the version of scikit-learn\n",
    "sklearn_version = sklearn.__version__\n",
    "sklearn_version\n"
   ]
  },
  {
   "cell_type": "code",
   "execution_count": 3,
   "id": "6a3e7cd9",
   "metadata": {},
   "outputs": [],
   "source": [
    "assert sys.version_info >= (3, 11) \n",
    "\n",
    "from packaging import version\n",
    "import sklearn\n",
    "\n",
    "assert version.parse(sklearn.__version__) >= version.parse(\"1.2.2\")"
   ]
  },
  {
   "cell_type": "code",
   "execution_count": 4,
   "id": "6024dbf6",
   "metadata": {},
   "outputs": [],
   "source": [
    "import warnings\n",
    "warnings.filterwarnings(\"ignore\", category=FutureWarning)"
   ]
  },
  {
   "cell_type": "markdown",
   "id": "f2597521",
   "metadata": {},
   "source": [
    "### Loading the sheep dataset"
   ]
  },
  {
   "cell_type": "code",
   "execution_count": 5,
   "id": "c09325a7",
   "metadata": {},
   "outputs": [
    {
     "data": {
      "text/html": [
       "<div>\n",
       "<style scoped>\n",
       "    .dataframe tbody tr th:only-of-type {\n",
       "        vertical-align: middle;\n",
       "    }\n",
       "\n",
       "    .dataframe tbody tr th {\n",
       "        vertical-align: top;\n",
       "    }\n",
       "\n",
       "    .dataframe thead th {\n",
       "        text-align: right;\n",
       "    }\n",
       "</style>\n",
       "<table border=\"1\" class=\"dataframe\">\n",
       "  <thead>\n",
       "    <tr style=\"text-align: right;\">\n",
       "      <th></th>\n",
       "      <th>x_mean</th>\n",
       "      <th>x_std_dev</th>\n",
       "      <th>x_variance</th>\n",
       "      <th>x_icv</th>\n",
       "      <th>x_median</th>\n",
       "      <th>x_minimum</th>\n",
       "      <th>x_maximum</th>\n",
       "      <th>x_skewness</th>\n",
       "      <th>x_kurtosis</th>\n",
       "      <th>x_iqr</th>\n",
       "      <th>...</th>\n",
       "      <th>z_max_psd</th>\n",
       "      <th>z_spectral_entropy</th>\n",
       "      <th>z_peak_frequency</th>\n",
       "      <th>z_spectral_centroid</th>\n",
       "      <th>z_spectral_spread</th>\n",
       "      <th>z_spectral_skewness</th>\n",
       "      <th>z_spectral_kurtosis</th>\n",
       "      <th>z_spectral_flatness</th>\n",
       "      <th>z_spectral_rolloff</th>\n",
       "      <th>label</th>\n",
       "    </tr>\n",
       "  </thead>\n",
       "  <tbody>\n",
       "    <tr>\n",
       "      <th>0</th>\n",
       "      <td>-0.127047</td>\n",
       "      <td>0.051875</td>\n",
       "      <td>0.002691</td>\n",
       "      <td>-2.449076</td>\n",
       "      <td>-0.1260</td>\n",
       "      <td>-0.256</td>\n",
       "      <td>0.008</td>\n",
       "      <td>-0.145693</td>\n",
       "      <td>0.097937</td>\n",
       "      <td>0.06675</td>\n",
       "      <td>...</td>\n",
       "      <td>2.419580</td>\n",
       "      <td>0.593014</td>\n",
       "      <td>4.1250</td>\n",
       "      <td>3.052060</td>\n",
       "      <td>1.484061</td>\n",
       "      <td>-0.534922</td>\n",
       "      <td>2.346818</td>\n",
       "      <td>0.582179</td>\n",
       "      <td>4.5000</td>\n",
       "      <td>grazing</td>\n",
       "    </tr>\n",
       "    <tr>\n",
       "      <th>1</th>\n",
       "      <td>-0.115156</td>\n",
       "      <td>0.045295</td>\n",
       "      <td>0.002052</td>\n",
       "      <td>-2.542368</td>\n",
       "      <td>-0.1190</td>\n",
       "      <td>-0.256</td>\n",
       "      <td>0.008</td>\n",
       "      <td>-0.157547</td>\n",
       "      <td>0.796587</td>\n",
       "      <td>0.06375</td>\n",
       "      <td>...</td>\n",
       "      <td>2.495610</td>\n",
       "      <td>0.697870</td>\n",
       "      <td>4.1250</td>\n",
       "      <td>2.841880</td>\n",
       "      <td>1.531736</td>\n",
       "      <td>-0.376181</td>\n",
       "      <td>2.095706</td>\n",
       "      <td>0.543022</td>\n",
       "      <td>4.3125</td>\n",
       "      <td>grazing</td>\n",
       "    </tr>\n",
       "    <tr>\n",
       "      <th>2</th>\n",
       "      <td>-0.110078</td>\n",
       "      <td>0.038005</td>\n",
       "      <td>0.001444</td>\n",
       "      <td>-2.896433</td>\n",
       "      <td>-0.1165</td>\n",
       "      <td>-0.171</td>\n",
       "      <td>0.008</td>\n",
       "      <td>0.588613</td>\n",
       "      <td>0.043011</td>\n",
       "      <td>0.06225</td>\n",
       "      <td>...</td>\n",
       "      <td>2.683044</td>\n",
       "      <td>0.836558</td>\n",
       "      <td>0.1875</td>\n",
       "      <td>2.586789</td>\n",
       "      <td>1.709652</td>\n",
       "      <td>-0.202790</td>\n",
       "      <td>1.673985</td>\n",
       "      <td>0.481731</td>\n",
       "      <td>4.3125</td>\n",
       "      <td>grazing</td>\n",
       "    </tr>\n",
       "    <tr>\n",
       "      <th>3</th>\n",
       "      <td>-0.111156</td>\n",
       "      <td>0.039253</td>\n",
       "      <td>0.001541</td>\n",
       "      <td>-2.831817</td>\n",
       "      <td>-0.1155</td>\n",
       "      <td>-0.175</td>\n",
       "      <td>0.008</td>\n",
       "      <td>0.485738</td>\n",
       "      <td>-0.082020</td>\n",
       "      <td>0.06275</td>\n",
       "      <td>...</td>\n",
       "      <td>2.883204</td>\n",
       "      <td>0.649190</td>\n",
       "      <td>0.1875</td>\n",
       "      <td>2.357693</td>\n",
       "      <td>1.773804</td>\n",
       "      <td>0.028470</td>\n",
       "      <td>1.512067</td>\n",
       "      <td>0.379781</td>\n",
       "      <td>4.3125</td>\n",
       "      <td>grazing</td>\n",
       "    </tr>\n",
       "    <tr>\n",
       "      <th>4</th>\n",
       "      <td>-0.108047</td>\n",
       "      <td>0.041168</td>\n",
       "      <td>0.001695</td>\n",
       "      <td>-2.624508</td>\n",
       "      <td>-0.1110</td>\n",
       "      <td>-0.175</td>\n",
       "      <td>0.008</td>\n",
       "      <td>0.385131</td>\n",
       "      <td>-0.410892</td>\n",
       "      <td>0.06225</td>\n",
       "      <td>...</td>\n",
       "      <td>3.376866</td>\n",
       "      <td>0.657325</td>\n",
       "      <td>0.1875</td>\n",
       "      <td>2.062371</td>\n",
       "      <td>1.770855</td>\n",
       "      <td>0.393420</td>\n",
       "      <td>1.640347</td>\n",
       "      <td>0.488464</td>\n",
       "      <td>4.3125</td>\n",
       "      <td>grazing</td>\n",
       "    </tr>\n",
       "  </tbody>\n",
       "</table>\n",
       "<p>5 rows × 83 columns</p>\n",
       "</div>"
      ],
      "text/plain": [
       "     x_mean  x_std_dev  x_variance     x_icv  x_median  x_minimum  x_maximum  \\\n",
       "0 -0.127047   0.051875    0.002691 -2.449076   -0.1260     -0.256      0.008   \n",
       "1 -0.115156   0.045295    0.002052 -2.542368   -0.1190     -0.256      0.008   \n",
       "2 -0.110078   0.038005    0.001444 -2.896433   -0.1165     -0.171      0.008   \n",
       "3 -0.111156   0.039253    0.001541 -2.831817   -0.1155     -0.175      0.008   \n",
       "4 -0.108047   0.041168    0.001695 -2.624508   -0.1110     -0.175      0.008   \n",
       "\n",
       "   x_skewness  x_kurtosis    x_iqr  ...  z_max_psd  z_spectral_entropy  \\\n",
       "0   -0.145693    0.097937  0.06675  ...   2.419580            0.593014   \n",
       "1   -0.157547    0.796587  0.06375  ...   2.495610            0.697870   \n",
       "2    0.588613    0.043011  0.06225  ...   2.683044            0.836558   \n",
       "3    0.485738   -0.082020  0.06275  ...   2.883204            0.649190   \n",
       "4    0.385131   -0.410892  0.06225  ...   3.376866            0.657325   \n",
       "\n",
       "   z_peak_frequency  z_spectral_centroid  z_spectral_spread  \\\n",
       "0            4.1250             3.052060           1.484061   \n",
       "1            4.1250             2.841880           1.531736   \n",
       "2            0.1875             2.586789           1.709652   \n",
       "3            0.1875             2.357693           1.773804   \n",
       "4            0.1875             2.062371           1.770855   \n",
       "\n",
       "   z_spectral_skewness  z_spectral_kurtosis  z_spectral_flatness  \\\n",
       "0            -0.534922             2.346818             0.582179   \n",
       "1            -0.376181             2.095706             0.543022   \n",
       "2            -0.202790             1.673985             0.481731   \n",
       "3             0.028470             1.512067             0.379781   \n",
       "4             0.393420             1.640347             0.488464   \n",
       "\n",
       "   z_spectral_rolloff    label  \n",
       "0              4.5000  grazing  \n",
       "1              4.3125  grazing  \n",
       "2              4.3125  grazing  \n",
       "3              4.3125  grazing  \n",
       "4              4.3125  grazing  \n",
       "\n",
       "[5 rows x 83 columns]"
      ]
     },
     "execution_count": 5,
     "metadata": {},
     "output_type": "execute_result"
    }
   ],
   "source": [
    "import pandas as pd\n",
    "\n",
    "# Reading the dataset using our custom function\n",
    "df = pd.read_csv(\"sheep_data.csv\")\n",
    "\n",
    "# Take a look at the first 5 rows of the dataset\n",
    "df.head()"
   ]
  },
  {
   "cell_type": "code",
   "execution_count": 6,
   "id": "837f21d8",
   "metadata": {},
   "outputs": [
    {
     "name": "stdout",
     "output_type": "stream",
     "text": [
      "Shape: (64626, 83)\n",
      "NaN Values: 0 \n",
      "\n"
     ]
    }
   ],
   "source": [
    "print(\"Shape:\", df.shape)\n",
    "print(\"NaN Values:\", df.isnull().sum().sum(), \"\\n\")"
   ]
  },
  {
   "cell_type": "code",
   "execution_count": 7,
   "id": "ec91346e",
   "metadata": {},
   "outputs": [
    {
     "name": "stdout",
     "output_type": "stream",
     "text": [
      "             x_mean     x_std_dev    x_variance         x_icv      x_median  \\\n",
      "count  64626.000000  64626.000000  6.462600e+04  64626.000000  64626.000000   \n",
      "mean       0.216214      0.052556  1.014582e-02     53.730916      0.215428   \n",
      "std        0.378714      0.085929  4.301334e-02    109.136817      0.379740   \n",
      "min       -0.984359      0.000614  3.770000e-07   -338.293519     -0.989000   \n",
      "25%       -0.074238      0.003238  1.050000e-05     -1.302709     -0.077500   \n",
      "50%        0.336883      0.009609  9.230000e-05      8.853306      0.336000   \n",
      "75%        0.483746      0.075182  5.652357e-03     91.993652      0.483000   \n",
      "max        0.917594      1.157193  1.339095e+00   1137.662090      0.975500   \n",
      "\n",
      "          x_minimum     x_maximum    x_skewness    x_kurtosis         x_iqr  \\\n",
      "count  64626.000000  64626.000000  64626.000000  64626.000000  64626.000000   \n",
      "mean       0.097655      0.342900     -0.057744      1.088611      0.065558   \n",
      "std        0.434949      0.422819      0.882009      3.233296      0.115031   \n",
      "min       -2.198000     -0.921000     -7.985691     -2.065411      0.000000   \n",
      "25%       -0.225000      0.099000     -0.494820     -0.338583      0.004000   \n",
      "50%        0.233000      0.379000     -0.044377      0.330439      0.010500   \n",
      "75%        0.392000      0.610000      0.392399      1.452043      0.087000   \n",
      "max        0.884000      3.622000      7.993069     63.924860      1.963750   \n",
      "\n",
      "       ...  z_dominant_frequency     z_max_psd  z_spectral_entropy  \\\n",
      "count  ...          64626.000000  64626.000000        64626.000000   \n",
      "mean   ...              1.841403      3.379147            0.761668   \n",
      "std    ...              0.997442      4.729592            1.133379   \n",
      "min    ...              0.187500      0.000006            0.000021   \n",
      "25%    ...              0.910714      0.523452            0.013272   \n",
      "50%    ...              2.012500      1.942888            0.217954   \n",
      "75%    ...              2.694079      4.486851            1.025731   \n",
      "max    ...              5.812500     56.943064            5.938272   \n",
      "\n",
      "       z_peak_frequency  z_spectral_centroid  z_spectral_spread  \\\n",
      "count      64626.000000         64626.000000       64626.000000   \n",
      "mean           0.913936             1.783698           1.411029   \n",
      "std            1.238515             0.804253           0.314404   \n",
      "min            0.187500             0.266814           0.328222   \n",
      "25%            0.187500             1.132270           1.215960   \n",
      "50%            0.187500             1.756920           1.454240   \n",
      "75%            1.125000             2.403422           1.636673   \n",
      "max            5.812500             5.243659           2.431359   \n",
      "\n",
      "       z_spectral_skewness  z_spectral_kurtosis  z_spectral_flatness  \\\n",
      "count         64626.000000         64626.000000         64626.000000   \n",
      "mean              1.139286             5.080643             0.377137   \n",
      "std               1.209252             5.987161             0.158639   \n",
      "min              -5.547465             1.154686             0.000019   \n",
      "25%               0.274455             2.027733             0.257500   \n",
      "50%               0.872108             2.793637             0.387534   \n",
      "75%               1.709917             5.271473             0.498134   \n",
      "max               8.376889            94.199431             0.998318   \n",
      "\n",
      "       z_spectral_rolloff  \n",
      "count        64626.000000  \n",
      "mean             3.304803  \n",
      "std              1.323102  \n",
      "min              0.187500  \n",
      "25%              2.437500  \n",
      "50%              3.562500  \n",
      "75%              4.312500  \n",
      "max              5.812500  \n",
      "\n",
      "[8 rows x 82 columns]\n"
     ]
    }
   ],
   "source": [
    "print(df.describe())"
   ]
  },
  {
   "cell_type": "markdown",
   "id": "d579f028",
   "metadata": {},
   "source": [
    "### Transorming class labels into integers"
   ]
  },
  {
   "cell_type": "code",
   "execution_count": 8,
   "id": "2979623f",
   "metadata": {},
   "outputs": [
    {
     "data": {
      "text/plain": [
       "array(['grazing', 'resting', 'scratching', 'standing', 'walking'],\n",
       "      dtype=object)"
      ]
     },
     "execution_count": 8,
     "metadata": {},
     "output_type": "execute_result"
    }
   ],
   "source": [
    "from sklearn.preprocessing import LabelEncoder\n",
    "\n",
    "X = df.loc[:, df.columns != 'label'].values\n",
    "y = df['label'].values\n",
    "\n",
    "label_encoder = LabelEncoder()\n",
    "y = label_encoder.fit_transform(y)\n",
    "label_encoder.classes_"
   ]
  },
  {
   "cell_type": "markdown",
   "id": "0f6c5fdb",
   "metadata": {},
   "source": [
    "### Split the dataset "
   ]
  },
  {
   "cell_type": "code",
   "execution_count": 9,
   "id": "38d555c9",
   "metadata": {},
   "outputs": [],
   "source": [
    "from sklearn.model_selection import train_test_split\n",
    "\n",
    "X_train, X_test, y_train, y_test = train_test_split(X, y, test_size = .3, stratify = y, random_state = 1)"
   ]
  },
  {
   "cell_type": "markdown",
   "id": "b235f98f",
   "metadata": {},
   "source": [
    "### Cross Validation"
   ]
  },
  {
   "cell_type": "code",
   "execution_count": 22,
   "id": "35a91cb0",
   "metadata": {},
   "outputs": [
    {
     "name": "stdout",
     "output_type": "stream",
     "text": [
      "Random Forest: Average Accuracy = 0.9878\n",
      "LightGBM: Average Accuracy = 0.9891\n",
      "Decision Tree: Average Accuracy = 0.9663\n",
      "XGBoost: Average Accuracy = 0.9918\n",
      "SVM Radial: Average Accuracy = 0.7568\n",
      "MLP: Average Accuracy = 0.8979\n",
      "\n",
      "Best Model: XGBoost with Average Accuracy = 0.9918\n"
     ]
    }
   ],
   "source": [
    "from sklearn.ensemble import RandomForestClassifier, GradientBoostingClassifier\n",
    "from sklearn.tree import DecisionTreeClassifier\n",
    "from sklearn.svm import SVC\n",
    "from sklearn.neural_network import MLPClassifier\n",
    "from sklearn.model_selection import cross_val_score, KFold\n",
    "from sklearn.model_selection import StratifiedKFold\n",
    "from lightgbm import LGBMClassifier\n",
    "from xgboost import XGBClassifier\n",
    "import numpy as np\n",
    "from tqdm import tqdm\n",
    "\n",
    "# Define the models (excluding LightGBM)\n",
    "models = {\n",
    "    \"Random Forest\": RandomForestClassifier(random_state=42),\n",
    "    \"LightGBM\": LGBMClassifier(random_state=42),\n",
    "    \"Decision Tree\": DecisionTreeClassifier(random_state=42),\n",
    "    \"XGBoost\": XGBClassifier(random_state=42, use_label_encoder=False, eval_metric='logloss'),\n",
    "    \"SVM Radial\": SVC(kernel='rbf', random_state=42),\n",
    "    \"MLP\": MLPClassifier(random_state=42)\n",
    "}\n",
    "\n",
    "# Define the Stratified K-Fold Cross-Validator\n",
    "stratified_kfold = StratifiedKFold(n_splits=5, shuffle=True, random_state=42)\n",
    "\n",
    "# Perform K-Fold CV and store the results\n",
    "model_scores = {}\n",
    "\n",
    "for name, model in models.items():\n",
    "    scores = cross_val_score(model, X, y, cv=stratified_kfold, n_jobs=-1)\n",
    "    model_scores[name] = np.mean(scores)\n",
    "    print(f\"{name}: Average Accuracy = {np.mean(scores):.4f}\")\n",
    "\n",
    "# Selecting the best model based on the highest average accuracy\n",
    "best_model = max(model_scores, key=model_scores.get)\n",
    "print(f\"\\nBest Model: {best_model} with Average Accuracy = {model_scores[best_model]:.4f}\")"
   ]
  },
  {
   "cell_type": "code",
   "execution_count": 28,
   "id": "ce11a318",
   "metadata": {},
   "outputs": [
    {
     "name": "stdout",
     "output_type": "stream",
     "text": [
      "Fitting 5 folds for each of 27 candidates, totalling 135 fits\n",
      "Best Parameters: {'learning_rate': 0.2, 'max_depth': 5, 'n_estimators': 300}\n",
      "Best Score: 0.9902958046871252\n"
     ]
    }
   ],
   "source": [
    "from sklearn.model_selection import GridSearchCV\n",
    "from xgboost import XGBClassifier\n",
    "\n",
    "# Define the parameter grid\n",
    "param_grid = {\n",
    "    'n_estimators': [100, 200, 300],\n",
    "    'learning_rate': [0.01, 0.1, 0.2],\n",
    "    'max_depth': [3, 4, 5]\n",
    "}\n",
    "\n",
    "# Initialize the XGBoost classifier\n",
    "xgb_model = XGBClassifier(random_state=42, use_label_encoder=False, eval_metric='logloss')\n",
    "\n",
    "# Create the GridSearchCV object\n",
    "grid_search = GridSearchCV(estimator=xgb_model, param_grid=param_grid, cv=5, n_jobs=-1, verbose=2)\n",
    "\n",
    "# Fit to the data\n",
    "grid_search.fit(X_train, y_train)\n",
    "\n",
    "# Print the best parameters and the best score\n",
    "print(\"Best Parameters:\", grid_search.best_params_)\n",
    "print(\"Best Score:\", grid_search.best_score_)\n"
   ]
  },
  {
   "cell_type": "code",
   "execution_count": 33,
   "id": "ad0a6a40",
   "metadata": {},
   "outputs": [
    {
     "data": {
      "image/png": "[encoded data removed]",
      "text/plain": [
       "<Figure size 1000x700 with 2 Axes>"
      ]
     },
     "metadata": {},
     "output_type": "display_data"
    },
    {
     "name": "stdout",
     "output_type": "stream",
     "text": [
      "Classification Report:\n",
      "               precision    recall  f1-score   support\n",
      "\n",
      "     grazing       1.00      1.00      1.00      4830\n",
      "     resting       0.99      0.99      0.99      8272\n",
      "  scratching       0.99      0.90      0.94       165\n",
      "    standing       0.99      0.99      0.99      4254\n",
      "     walking       1.00      0.99      1.00      1867\n",
      "\n",
      "    accuracy                           0.99     19388\n",
      "   macro avg       0.99      0.98      0.98     19388\n",
      "weighted avg       0.99      0.99      0.99     19388\n",
      "\n"
     ]
    }
   ],
   "source": [
    "from sklearn.metrics import classification_report\n",
    "from sklearn.metrics import confusion_matrix\n",
    "import seaborn as sns\n",
    "import matplotlib.pyplot as plt\n",
    "\n",
    "# Best model from Grid Search\n",
    "best_model = grid_search.best_estimator_\n",
    "\n",
    "best_model.fit(X_train, y_train)\n",
    "\n",
    "# Making predictions on the test set\n",
    "y_pred = best_model.predict(X_test)\n",
    "\n",
    "# Generate the classification report\n",
    "class_report = classification_report(y_test, y_pred, target_names=label_encoder.classes_)\n",
    "\n",
    "# generating the confusion matrix\n",
    "cm = confusion_matrix(y_test, y_pred)\n",
    "\n",
    "# Plotting the confusion matrix with class names\n",
    "plt.figure(figsize=(10, 7))\n",
    "sns.heatmap(cm, annot=True, fmt='d', cmap='Blues', xticklabels=label_encoder.classes_, yticklabels=label_encoder.classes_)\n",
    "plt.xlabel('Predicted')\n",
    "plt.ylabel('Actual')\n",
    "plt.title('Confusion Matrix')\n",
    "plt.savefig('cm.png', dpi=300)\n",
    "plt.show()\n",
    "\n",
    "# Display the results\n",
    "print(\"Classification Report:\\n\", class_report)\n"
   ]
  },
  {
   "cell_type": "code",
   "execution_count": 37,
   "id": "754e754d",
   "metadata": {},
   "outputs": [
    {
     "name": "stdout",
     "output_type": "stream",
     "text": [
      "Best Parameters: {'max_depth': 9, 'max_features': 'auto', 'n_estimators': 370}\n",
      "Best Score: 0.9508820574195646\n"
     ]
    }
   ],
   "source": [
    "# RandomizedSearchCV\n",
    "\n",
    "from sklearn.model_selection import RandomizedSearchCV\n",
    "from sklearn.ensemble import RandomForestClassifier\n",
    "from scipy.stats import randint as sp_randint\n",
    "\n",
    "# Define the parameter distribution\n",
    "param_dist = {\n",
    "    'n_estimators': sp_randint(100, 500),\n",
    "    'max_depth': sp_randint(3, 10), \n",
    "    'max_features': ['auto', 'sqrt', 'log2']\n",
    "}\n",
    "\n",
    "# Initialize the Random Forest classifier\n",
    "rf_model = RandomForestClassifier(random_state=42)\n",
    "\n",
    "# Create the RandomizedSearchCV object\n",
    "random_search = RandomizedSearchCV(estimator=rf_model, param_distributions=param_dist, \n",
    "                                   n_iter=100, cv=5, random_state=42, n_jobs=-1)\n",
    "\n",
    "# Fit to the data\n",
    "random_search.fit(X_train, y_train)\n",
    "\n",
    "# Print the best parameters and the best score\n",
    "print(\"Best Parameters:\", random_search.best_params_)\n",
    "print(\"Best Score:\", random_search.best_score_)\n"
   ]
  },
  {
   "cell_type": "code",
   "execution_count": 39,
   "id": "6c220dfe",
   "metadata": {},
   "outputs": [
    {
     "name": "stdout",
     "output_type": "stream",
     "text": [
      "Best Parameters: {'max_depth': 15, 'n_estimators': 300}\n",
      "Best Score: 0.9768948804996072\n",
      "Test Set Accuracy: 0.9802\n"
     ]
    }
   ],
   "source": [
    "# HalvingGridSearchCV\n",
    "\n",
    "from sklearn.experimental import enable_halving_search_cv  # Explicitly require this experimental feature\n",
    "from sklearn.model_selection import HalvingGridSearchCV\n",
    "from sklearn.ensemble import RandomForestClassifier\n",
    "from sklearn.datasets import make_classification\n",
    "from sklearn.model_selection import train_test_split\n",
    "\n",
    "\n",
    "# Define the model and parameter space\n",
    "model = RandomForestClassifier(random_state=42)\n",
    "param_grid = {\n",
    "    'n_estimators': [100, 200, 300],\n",
    "    'max_depth': [5, 10, 15]\n",
    "}\n",
    "\n",
    "# Initialize and run the Halving Grid Search\n",
    "halving_grid_search = HalvingGridSearchCV(model, param_grid, cv=5, factor=2, random_state=42)\n",
    "halving_grid_search.fit(X_train, y_train)\n",
    "\n",
    "# Best parameters and score\n",
    "print(\"Best Parameters:\", halving_grid_search.best_params_)\n",
    "print(\"Best Score:\", halving_grid_search.best_score_)\n",
    "\n",
    "# Evaluate on the test set\n",
    "best_model = halving_grid_search.best_estimator_\n",
    "test_accuracy = best_model.score(X_test, y_test)\n",
    "print(f\"Test Set Accuracy: {test_accuracy:.4f}\")\n"
   ]
  },
  {
   "cell_type": "code",
   "execution_count": null,
   "id": "8209fe7d",
   "metadata": {},
   "outputs": [],
   "source": []
  }
 ],
 "metadata": {
  "kernelspec": {
   "display_name": "Python 3 (ipykernel)",
   "language": "python",
   "name": "python3"
  },
  "language_info": {
   "codemirror_mode": {
    "name": "ipython",
    "version": 3
   },
   "file_extension": ".py",
   "mimetype": "text/x-python",
   "name": "python",
   "nbconvert_exporter": "python",
   "pygments_lexer": "ipython3",
   "version": "3.11.5"
  }
 },
 "nbformat": 4,
 "nbformat_minor": 5
}
