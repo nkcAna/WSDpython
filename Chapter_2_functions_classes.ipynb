{
 "cells": [
  {
   "cell_type": "markdown",
   "id": "b9e678d2",
   "metadata": {},
   "source": [
    "# Functions and Libraries\n",
    "\n",
    "In programming, a function is a self-contained block of code that encapsulates a specific task or related group of tasks. Functions enhance readability, foster code reuse, and allow for more straightforward debugging. Within the context of a data science project, such as animal behavior classification, functions play a pivotal role in organizing the steps of the data processing and modeling workflow.\n",
    "\n",
    "## Simulating Data and Saving to CSV\n",
    "\n",
    "Often in data science, before obtaining real-world data or to test a new method, we might need to create simulated data. Simulated data can provide an understanding of how algorithms might perform or help in setting up the workflow.\n",
    "\n",
    "Let's begin by creating a function that simulates a dataset for animal behavior:"
   ]
  },
  {
   "cell_type": "code",
   "execution_count": 7,
   "id": "a9715b56",
   "metadata": {},
   "outputs": [
    {
     "name": "stdout",
     "output_type": "stream",
     "text": [
      "Data simulated and saved to simulated_dataset.csv\n"
     ]
    }
   ],
   "source": [
    "import random\n",
    "import csv\n",
    "\n",
    "def simulate_data(num_samples=1000):\n",
    "    \"\"\"Simulate a dataset for animal behavior.\"\"\"\n",
    "    dataset = []\n",
    "    for _ in range(num_samples):\n",
    "        sample = {\n",
    "            'activity_duration': random.uniform(0, 100),\n",
    "            'proximity_to_others': random.uniform(0, 10),\n",
    "            'noise_levels': random.uniform(50, 100)\n",
    "        }\n",
    "        dataset.append(sample)\n",
    "\n",
    "    # Save the dataset to a CSV\n",
    "    filename = \"simulated_dataset.csv\"\n",
    "    keys = dataset[0].keys()\n",
    "    with open(filename, 'w', newline='') as output_file:\n",
    "        dict_writer = csv.DictWriter(output_file, keys)\n",
    "        dict_writer.writeheader()\n",
    "        dict_writer.writerows(dataset)\n",
    "    \n",
    "    return f\"Data simulated and saved to {filename}\"\n",
    "\n",
    "# Use the function to generate simulated data\n",
    "print(simulate_data())"
   ]
  },
  {
   "cell_type": "markdown",
   "id": "fab46289",
   "metadata": {},
   "source": [
    "## Data Extraction Function\n",
    "Once our data is saved, the next logical step in our workflow is to retrieve and preprocess it. This retrieval can be effectively done using a function:"
   ]
  },
  {
   "cell_type": "code",
   "execution_count": 8,
   "id": "c320fd1d",
   "metadata": {},
   "outputs": [
    {
     "name": "stdout",
     "output_type": "stream",
     "text": [
      "   activity_duration  proximity_to_others  noise_levels\n",
      "0          -0.750392            -1.557333      0.626784\n",
      "1          -1.708669            -0.529892      1.078318\n",
      "2          -0.725235             0.147800     -1.442999\n",
      "3           1.559831            -0.196572      0.482220\n",
      "4           0.940615             0.324937     -1.220871\n"
     ]
    }
   ],
   "source": [
    "import pandas as pd\n",
    "\n",
    "def extract_and_preprocess(filename=\"simulated_dataset.csv\"):\n",
    "    \"\"\"Extract data from the provided file and preprocess it.\"\"\"\n",
    "    \n",
    "    # Load data from CSV\n",
    "    data = pd.read_csv(filename)\n",
    "    \n",
    "    # Extract features\n",
    "    features = data[['activity_duration', 'proximity_to_others', 'noise_levels']]\n",
    "    \n",
    "    # Here, you could add more preprocessing steps as per the project's requirements.\n",
    "    # For demonstration, we're simply normalizing the features.\n",
    "    features_normalized = (features - features.mean()) / features.std()\n",
    "    \n",
    "    return features_normalized\n",
    "\n",
    "# Use the function to extract and preprocess data\n",
    "processed_data = extract_and_preprocess()\n",
    "print(processed_data.head())"
   ]
  },
  {
   "cell_type": "markdown",
   "id": "9747b730",
   "metadata": {},
   "source": [
    "# Classes in Python\n",
    "In object-oriented programming, a class is a blueprint for creating objects. Classes encapsulate data and provide methods to interact with that data. While this section won't delve into the profound intricacies of object-oriented programming, it's essential to have a foundational understanding of classes as we'll encounter them later, particularly when we explore PyTorch in the deep learning chapter.\n",
    "\n",
    "Let's demonstrate the concept of classes using our previous functions."
   ]
  },
  {
   "cell_type": "code",
   "execution_count": 11,
   "id": "37838b69",
   "metadata": {},
   "outputs": [
    {
     "name": "stdout",
     "output_type": "stream",
     "text": [
      "   activity_duration  proximity_to_others  noise_levels\n",
      "0          -0.750392            -1.557333      0.626784\n",
      "1          -1.708669            -0.529892      1.078318\n",
      "2          -0.725235             0.147800     -1.442999\n",
      "3           1.559831            -0.196572      0.482220\n",
      "4           0.940615             0.324937     -1.220871\n"
     ]
    }
   ],
   "source": [
    "import pandas as pd\n",
    "\n",
    "class AnimalBehaviorData:\n",
    "    def __init__(self, filename=\"simulated_dataset.csv\"):\n",
    "        self.filename = filename\n",
    "        self.data = None\n",
    "        self.processed_data = None\n",
    "        \n",
    "    def extract_and_preprocess(self):\n",
    "        self.data = pd.read_csv(self.filename)\n",
    "        features = self.data[['activity_duration', 'proximity_to_others', 'noise_levels']]\n",
    "        self.processed_data = (features - features.mean()) / features.std()\n",
    "        \n",
    "    def display_data(self):\n",
    "        print(self.processed_data.head())\n",
    "\n",
    "# Create an instance of the class and use its methods\n",
    "dataset = AnimalBehaviorData()\n",
    "dataset.extract_and_preprocess()\n",
    "dataset.display_data()"
   ]
  },
  {
   "cell_type": "code",
   "execution_count": null,
   "id": "91a59ef8",
   "metadata": {},
   "outputs": [],
   "source": []
  }
 ],
 "metadata": {
  "kernelspec": {
   "display_name": "Python 3 (ipykernel)",
   "language": "python",
   "name": "python3"
  },
  "language_info": {
   "codemirror_mode": {
    "name": "ipython",
    "version": 3
   },
   "file_extension": ".py",
   "mimetype": "text/x-python",
   "name": "python",
   "nbconvert_exporter": "python",
   "pygments_lexer": "ipython3",
   "version": "3.11.3"
  }
 },
 "nbformat": 4,
 "nbformat_minor": 5
}
