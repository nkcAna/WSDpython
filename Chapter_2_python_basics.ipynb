{
 "cells": [
  {
   "cell_type": "code",
   "execution_count": 2,
   "id": "71060995",
   "metadata": {},
   "outputs": [
    {
     "name": "stderr",
     "output_type": "stream",
     "text": [
      "<>:7: SyntaxWarning: invalid decimal literal\n",
      "<>:7: SyntaxWarning: invalid decimal literal\n",
      "C:\\Users\\nklea\\AppData\\Local\\Temp\\ipykernel_14584\\2337427840.py:7: SyntaxWarning: invalid decimal literal\n",
      "  10invalid = \"This variable will raise an error\"\n"
     ]
    },
    {
     "ename": "SyntaxError",
     "evalue": "invalid syntax (2337427840.py, line 7)",
     "output_type": "error",
     "traceback": [
      "\u001b[1;36m  Cell \u001b[1;32mIn[2], line 7\u001b[1;36m\u001b[0m\n\u001b[1;33m    10invalid = \"This variable will raise an error\"\u001b[0m\n\u001b[1;37m      ^\u001b[0m\n\u001b[1;31mSyntaxError\u001b[0m\u001b[1;31m:\u001b[0m invalid syntax\n"
     ]
    }
   ],
   "source": [
    "# Variable names\n",
    "\n",
    "# Start with a letter or an underscore\n",
    "\n",
    "valid_variable = \"This is valid\"\n",
    "_also_valid = \"This is also valid\"\n",
    "10invalid = \"This variable will raise an error\"\n"
   ]
  },
  {
   "cell_type": "code",
   "execution_count": 1,
   "id": "a5afe530",
   "metadata": {},
   "outputs": [
    {
     "ename": "SyntaxError",
     "evalue": "cannot assign to expression here. Maybe you meant '==' instead of '='? (3966386206.py, line 5)",
     "output_type": "error",
     "traceback": [
      "\u001b[1;36m  Cell \u001b[1;32mIn[1], line 5\u001b[1;36m\u001b[0m\n\u001b[1;33m    var@name = \"This variable will raise an error\"\u001b[0m\n\u001b[1;37m    ^\u001b[0m\n\u001b[1;31mSyntaxError\u001b[0m\u001b[1;31m:\u001b[0m cannot assign to expression here. Maybe you meant '==' instead of '='?\n"
     ]
    }
   ],
   "source": [
    "# Contain only Alpha-Numeric Characters and Underscores\n",
    "\n",
    "var9999 = \"Valid variable\"\n",
    "var_name_ = \"Valid variable\"\n",
    "var@name = \"This variable will raise an error\""
   ]
  },
  {
   "cell_type": "code",
   "execution_count": 3,
   "id": "7382b4a1",
   "metadata": {},
   "outputs": [
    {
     "name": "stdout",
     "output_type": "stream",
     "text": [
      "5 10\n"
     ]
    }
   ],
   "source": [
    "# Case-Sensitive\n",
    "\n",
    "Var1 = 5\n",
    "var1 = 10\n",
    "print(Var1, var1)"
   ]
  },
  {
   "cell_type": "code",
   "execution_count": 4,
   "id": "b3812601",
   "metadata": {},
   "outputs": [
    {
     "ename": "SyntaxError",
     "evalue": "invalid syntax (1153951578.py, line 3)",
     "output_type": "error",
     "traceback": [
      "\u001b[1;36m  Cell \u001b[1;32mIn[4], line 3\u001b[1;36m\u001b[0m\n\u001b[1;33m    if = \"ok\"\u001b[0m\n\u001b[1;37m       ^\u001b[0m\n\u001b[1;31mSyntaxError\u001b[0m\u001b[1;31m:\u001b[0m invalid syntax\n"
     ]
    }
   ],
   "source": [
    "# Cannot be Python Keywords\n",
    "\n",
    "if = \"ok\""
   ]
  },
  {
   "cell_type": "code",
   "execution_count": null,
   "id": "bf642363",
   "metadata": {},
   "outputs": [],
   "source": [
    "# Good for loop counters\n",
    "for i in range(10):\n",
    "    print(i)\n",
    "\n",
    "# But in general, be more descriptive\n",
    "temperature = 22.5\n"
   ]
  },
  {
   "cell_type": "code",
   "execution_count": 5,
   "id": "1189f114",
   "metadata": {},
   "outputs": [
    {
     "name": "stdout",
     "output_type": "stream",
     "text": [
      "['False', 'None', 'True', 'and', 'as', 'assert', 'async', 'await', 'break', 'class', 'continue', 'def', 'del', 'elif', 'else', 'except', 'finally', 'for', 'from', 'global', 'if', 'import', 'in', 'is', 'lambda', 'nonlocal', 'not', 'or', 'pass', 'raise', 'return', 'try', 'while', 'with', 'yield']\n"
     ]
    }
   ],
   "source": [
    "import keyword\n",
    "print(keyword.kwlist)"
   ]
  },
  {
   "cell_type": "code",
   "execution_count": 7,
   "id": "fd084a79",
   "metadata": {},
   "outputs": [
    {
     "name": "stdout",
     "output_type": "stream",
     "text": [
      "10\n",
      "<class 'int'>\n",
      "3.14\n",
      "<class 'float'>\n",
      "Hello, Jupyter!\n",
      "<class 'str'>\n",
      "True\n",
      "<class 'bool'>\n",
      "(5+3j)\n",
      "<class 'complex'>\n"
     ]
    }
   ],
   "source": [
    "# Data types\n",
    "\n",
    "# Assign an integer value to a variable\n",
    "num_integer = 10\n",
    "\n",
    "# Print the value\n",
    "print(num_integer)\n",
    "\n",
    "# Check and print the data type using the type() function\n",
    "print(type(num_integer))\n",
    "\n",
    "# Assign a floating-point value to a variable\n",
    "num_float = 3.14\n",
    "\n",
    "# Print the value\n",
    "print(num_float)\n",
    "\n",
    "# Check and print the data type\n",
    "print(type(num_float))\n",
    "\n",
    "# Assign a string value to a variable\n",
    "text = \"Hello, Jupyter!\"\n",
    "\n",
    "# Print the value\n",
    "print(text)\n",
    "\n",
    "# Check and print the data type\n",
    "print(type(text))\n",
    "\n",
    "# Assign a boolean value to a variable\n",
    "is_python_fun = True\n",
    "\n",
    "# Print the value\n",
    "print(is_python_fun)\n",
    "\n",
    "# Check and print the data type\n",
    "print(type(is_python_fun))\n",
    "\n",
    "# Assign a complex number to a variable\n",
    "num_complex = 5 + 3j\n",
    "\n",
    "# Print the value\n",
    "print(num_complex)\n",
    "\n",
    "# Check and print the data type\n",
    "print(type(num_complex))\n"
   ]
  },
  {
   "cell_type": "code",
   "execution_count": null,
   "id": "4e507ef1",
   "metadata": {},
   "outputs": [],
   "source": [
    "# Convert a floating-point number to an integer\n",
    "num_float = 5.89\n",
    "num_int = int(num_float)\n",
    "print(num_int)  # Output: 5\n",
    "print(type(num_int))  # Output: <class 'int'>\n",
    "\n",
    "# Convert an integer to a string\n",
    "str_num = str(num_int)\n",
    "print(str_num)  # Output: \"5\"\n",
    "print(type(str_num))  # Output: <class 'str'>\n",
    "\n",
    "# Convert an integer to a floating-point number\n",
    "float_num = float(num_int)\n",
    "print(float_num)  # Output: 5.0\n",
    "print(type(float_num))  # Output: <class 'float'>\n",
    "\n",
    "# Convert an integer to a boolean\n",
    "bool_value = bool(num_int)\n",
    "print(bool_value)  # Output: True (since num_int is non-zero)\n",
    "print(type(bool_value))  # Output: <class 'bool'>\n",
    "\n"
   ]
  },
  {
   "cell_type": "code",
   "execution_count": 25,
   "id": "8340b941",
   "metadata": {},
   "outputs": [
    {
     "name": "stdout",
     "output_type": "stream",
     "text": [
      "12\n",
      "-8\n",
      "20\n",
      "0.2\n",
      "0\n",
      "2\n",
      "-2\n",
      "2\n",
      "3\n",
      "3.0\n",
      "1024\n"
     ]
    }
   ],
   "source": [
    "# Arithmetic Operations \n",
    "x, y = 2, 10 \n",
    "\n",
    "print(x + y)    # Output = 12 \n",
    "print(x - y)    # Output = -8 \n",
    "print(x * y)    # Output = 20 \n",
    "print(x / y)    # Output = 0.2 \n",
    "print(x // y)   # Output = 0 \n",
    "print(x % y)    # Output = 2\n",
    "print(y % x)    # Output = 0\n",
    "print(-x)       # Output = -2 \n",
    "print(abs(-x))  # Output = 2 \n",
    "print(int(2.10))# Output = 2 \n",
    "print(float(2)) # Output = 2.0 \n",
    "print(x ** y)   # Output = 1024 "
   ]
  },
  {
   "cell_type": "code",
   "execution_count": 30,
   "id": "21c2718f",
   "metadata": {},
   "outputs": [
    {
     "name": "stdout",
     "output_type": "stream",
     "text": [
      "2\n"
     ]
    }
   ],
   "source": [
    "print(int(2.10))"
   ]
  },
  {
   "cell_type": "code",
   "execution_count": 28,
   "id": "127823a9",
   "metadata": {},
   "outputs": [
    {
     "name": "stdout",
     "output_type": "stream",
     "text": [
      "0\n"
     ]
    }
   ],
   "source": [
    "print(y % x) # = 1s "
   ]
  },
  {
   "cell_type": "code",
   "execution_count": 8,
   "id": "88acfe01",
   "metadata": {},
   "outputs": [],
   "source": [
    "my_list = ['A','N','I','M','A','L','B','E','H','A','V','I','O','R']"
   ]
  },
  {
   "cell_type": "code",
   "execution_count": 9,
   "id": "ef6a3d40",
   "metadata": {},
   "outputs": [
    {
     "data": {
      "text/plain": [
       "['A', 'N', 'I', 'M', 'A', 'L', 'B', 'E', 'H', 'A', 'V', 'I', 'O', 'R']"
      ]
     },
     "execution_count": 9,
     "metadata": {},
     "output_type": "execute_result"
    }
   ],
   "source": [
    "my_list[:]"
   ]
  },
  {
   "cell_type": "code",
   "execution_count": 15,
   "id": "751f5c15",
   "metadata": {},
   "outputs": [
    {
     "data": {
      "text/plain": [
       "['L', 'B', 'E', 'H', 'A', 'V', 'I', 'O', 'R']"
      ]
     },
     "execution_count": 15,
     "metadata": {},
     "output_type": "execute_result"
    }
   ],
   "source": [
    "my_list[5:]"
   ]
  },
  {
   "cell_type": "code",
   "execution_count": 10,
   "id": "5178e956",
   "metadata": {},
   "outputs": [
    {
     "data": {
      "text/plain": [
       "['A', 'N', 'I', 'M']"
      ]
     },
     "execution_count": 10,
     "metadata": {},
     "output_type": "execute_result"
    }
   ],
   "source": [
    "my_list[:4]"
   ]
  },
  {
   "cell_type": "code",
   "execution_count": 11,
   "id": "074082b1",
   "metadata": {},
   "outputs": [
    {
     "data": {
      "text/plain": [
       "'R'"
      ]
     },
     "execution_count": 11,
     "metadata": {},
     "output_type": "execute_result"
    }
   ],
   "source": [
    "my_list[13]"
   ]
  },
  {
   "cell_type": "code",
   "execution_count": 12,
   "id": "f5331a19",
   "metadata": {},
   "outputs": [
    {
     "data": {
      "text/plain": [
       "'N'"
      ]
     },
     "execution_count": 12,
     "metadata": {},
     "output_type": "execute_result"
    }
   ],
   "source": [
    "my_list[-13]"
   ]
  },
  {
   "cell_type": "code",
   "execution_count": 13,
   "id": "a6e86893",
   "metadata": {},
   "outputs": [
    {
     "data": {
      "text/plain": [
       "'A'"
      ]
     },
     "execution_count": 13,
     "metadata": {},
     "output_type": "execute_result"
    }
   ],
   "source": [
    "my_list[-14]"
   ]
  },
  {
   "cell_type": "code",
   "execution_count": 16,
   "id": "8ced0ab3",
   "metadata": {},
   "outputs": [
    {
     "data": {
      "text/plain": [
       "['R', 'O', 'I', 'V', 'A', 'H', 'E', 'B', 'L', 'A', 'M', 'I', 'N', 'A']"
      ]
     },
     "execution_count": 16,
     "metadata": {},
     "output_type": "execute_result"
    }
   ],
   "source": [
    "my_list[::-1]"
   ]
  },
  {
   "cell_type": "code",
   "execution_count": 17,
   "id": "22e42a41",
   "metadata": {},
   "outputs": [
    {
     "data": {
      "text/plain": [
       "['N', 'I', 'M', 'A', 'L', 'B', 'E', 'H', 'A']"
      ]
     },
     "execution_count": 17,
     "metadata": {},
     "output_type": "execute_result"
    }
   ],
   "source": [
    "my_list[1:10] "
   ]
  },
  {
   "cell_type": "code",
   "execution_count": 19,
   "id": "66b30423",
   "metadata": {},
   "outputs": [
    {
     "data": {
      "text/plain": [
       "['A', 'N', 'I', 'M']"
      ]
     },
     "execution_count": 19,
     "metadata": {},
     "output_type": "execute_result"
    }
   ],
   "source": [
    "my_list[:4] "
   ]
  },
  {
   "cell_type": "code",
   "execution_count": 20,
   "id": "4fa06f8c",
   "metadata": {},
   "outputs": [
    {
     "data": {
      "text/plain": [
       "['L', 'B', 'E', 'H', 'A', 'V', 'I', 'O', 'R']"
      ]
     },
     "execution_count": 20,
     "metadata": {},
     "output_type": "execute_result"
    }
   ],
   "source": [
    "my_list[5:] "
   ]
  },
  {
   "cell_type": "code",
   "execution_count": 22,
   "id": "f5380d64",
   "metadata": {},
   "outputs": [
    {
     "data": {
      "text/plain": [
       "['A', 'N', 'I', 'M', 'A', 'L', 'B', 'E', 'H', 'A', 'V', 'I', 'O', 'R', '!']"
      ]
     },
     "execution_count": 22,
     "metadata": {},
     "output_type": "execute_result"
    }
   ],
   "source": [
    "my_list = ['A','N','I','M','A','L','B','E','H','A','V','I','O','R']\n",
    "\n",
    "my_list.append('!')\n",
    "my_list"
   ]
  },
  {
   "cell_type": "code",
   "execution_count": 24,
   "id": "95531306",
   "metadata": {},
   "outputs": [
    {
     "name": "stdout",
     "output_type": "stream",
     "text": [
      "['A', 'N', 'I', 'M', 'A', 'L', 'B', 'E', 'H', 'A', 'V', 'I', 'O', 'R', '!']\n"
     ]
    }
   ],
   "source": [
    "my_list = ['A','N','I','M','A','L','B','E','H','A','V','I','O','R']\n",
    "\n",
    "my_list.insert(14,'!')\n",
    "print(my_list)\n"
   ]
  },
  {
   "cell_type": "code",
   "execution_count": 31,
   "id": "95ee5b3a",
   "metadata": {},
   "outputs": [
    {
     "data": {
      "text/plain": [
       "['A', 'N', 'I', 'M', 'A', 'L', 'B', 'E', 'H', 'A', 'V', 'I', 'O', 'R', '!']"
      ]
     },
     "execution_count": 31,
     "metadata": {},
     "output_type": "execute_result"
    }
   ],
   "source": [
    "['A','N','I','M','A','L','B','E','H','A','V','I','O','R'] + ['!']"
   ]
  },
  {
   "cell_type": "code",
   "execution_count": 33,
   "id": "16177a8d",
   "metadata": {},
   "outputs": [
    {
     "name": "stdout",
     "output_type": "stream",
     "text": [
      "['A', 'N', 'I', 'M', 'A', 'L', 'B', 'E', 'H', 'A', 'V', 'I', 'O', 'R', '!', '!']\n"
     ]
    }
   ],
   "source": [
    "my_list = ['A','N','I','M','A','L','B','E','H','A','V','I','O','R']\n",
    "\n",
    "my_list.extend(['!','!'])\n",
    "print(my_list)\n",
    "\n"
   ]
  },
  {
   "cell_type": "code",
   "execution_count": 34,
   "id": "27d5d8e9",
   "metadata": {},
   "outputs": [
    {
     "name": "stdout",
     "output_type": "stream",
     "text": [
      "['A', 'N', 'I', 'M', 'A', 'L', 'B', 'E', 'H', 'A', 'V', 'I', 'O', 'R', '!']\n"
     ]
    }
   ],
   "source": [
    "my_list = ['A','N','I','M','A','L','B','E','H','A','V','I','O','R']\n",
    "\n",
    "my_list.insert(len(my_list),'!')\n",
    "print(my_list)\n"
   ]
  },
  {
   "cell_type": "code",
   "execution_count": 37,
   "id": "133321dd",
   "metadata": {},
   "outputs": [
    {
     "name": "stdout",
     "output_type": "stream",
     "text": [
      "['A', 'N', 'I', 'M', 'A', 'L', 'B', 'E', 'H', 'A', 'V', 'I', 'O', 'R', '!', '!']\n"
     ]
    }
   ],
   "source": [
    "my_list = ['A','N','I','M','A','L','B','E','H','A','V','I','O','R']\n",
    "\n",
    "new_list = my_list + ['!','!']\n",
    "print(new_list)\n"
   ]
  },
  {
   "cell_type": "code",
   "execution_count": 38,
   "id": "652e16a8",
   "metadata": {},
   "outputs": [
    {
     "name": "stdout",
     "output_type": "stream",
     "text": [
      "['N', 'I', 'M', 'A', 'L', 'B', 'E', 'H', 'A', 'V', 'I', 'O', 'R']\n"
     ]
    }
   ],
   "source": [
    "my_list = ['A','N','I','M','A','L','B','E','H','A','V','I','O','R']\n",
    "\n",
    "my_list.remove('A')\n",
    "print(my_list)\n"
   ]
  },
  {
   "cell_type": "code",
   "execution_count": 43,
   "id": "ce38d5bd",
   "metadata": {},
   "outputs": [
    {
     "name": "stdout",
     "output_type": "stream",
     "text": [
      "['A', 'N', 'I', 'A', 'L', 'B', 'E', 'H', 'A', 'V', 'I', 'O', 'R']\n"
     ]
    }
   ],
   "source": [
    "my_list = ['A','N','I','M','A','L','B','E','H','A','V','I','O','R']\n",
    "\n",
    "my_list.pop(3)\n",
    "print(my_list)\n"
   ]
  },
  {
   "cell_type": "code",
   "execution_count": 44,
   "id": "8945b526",
   "metadata": {},
   "outputs": [
    {
     "name": "stdout",
     "output_type": "stream",
     "text": [
      "[]\n"
     ]
    }
   ],
   "source": [
    "my_list = ['A','N','I','M','A','L','B','E','H','A','V','I','O','R']\n",
    "\n",
    "my_list.clear()\n",
    "print(my_list)\n",
    "\n"
   ]
  },
  {
   "cell_type": "code",
   "execution_count": 45,
   "id": "b4d112b5",
   "metadata": {},
   "outputs": [
    {
     "name": "stdout",
     "output_type": "stream",
     "text": [
      "['R', 'O', 'I', 'V', 'A', 'H', 'E', 'B', 'L', 'A', 'M', 'I', 'N', 'A']\n"
     ]
    }
   ],
   "source": [
    "my_list = ['A','N','I','M','A','L','B','E','H','A','V','I','O','R']\n",
    "\n",
    "my_list.reverse()\n",
    "print(my_list)\n"
   ]
  },
  {
   "cell_type": "code",
   "execution_count": 46,
   "id": "d32e17b0",
   "metadata": {},
   "outputs": [
    {
     "name": "stdout",
     "output_type": "stream",
     "text": [
      "['A', 'A', 'A', 'B', 'E', 'H', 'I', 'I', 'L', 'M', 'N', 'O', 'R', 'V']\n"
     ]
    }
   ],
   "source": [
    "my_list = ['A','N','I','M','A','L','B','E','H','A','V','I','O','R']\n",
    "\n",
    "my_list.sort()\n",
    "print(my_list)\n"
   ]
  },
  {
   "cell_type": "code",
   "execution_count": 2,
   "id": "b752cff4",
   "metadata": {},
   "outputs": [
    {
     "data": {
      "text/plain": [
       "3"
      ]
     },
     "execution_count": 2,
     "metadata": {},
     "output_type": "execute_result"
    }
   ],
   "source": [
    "my_list = ['A','N','I','M','A','L','B','E','H','A','V','I','O','R']\n",
    "\n",
    "my_list.count('A')\n"
   ]
  },
  {
   "cell_type": "code",
   "execution_count": 4,
   "id": "f1565ff9",
   "metadata": {},
   "outputs": [
    {
     "data": {
      "text/plain": [
       "9"
      ]
     },
     "execution_count": 4,
     "metadata": {},
     "output_type": "execute_result"
    }
   ],
   "source": [
    "my_list = ['A','N','I','M','A','L','B','E','H','A','V','I','O','R']\n",
    "\n",
    "# Find index A in the list starting from position 5\n",
    "my_list.index('A', 5)\n"
   ]
  },
  {
   "cell_type": "code",
   "execution_count": 5,
   "id": "9890e49d",
   "metadata": {},
   "outputs": [
    {
     "data": {
      "text/plain": [
       "4"
      ]
     },
     "execution_count": 5,
     "metadata": {},
     "output_type": "execute_result"
    }
   ],
   "source": [
    "# Find index A in the list starting from position 1 to 6\n",
    "my_list.index('A', 1, 6)\n"
   ]
  },
  {
   "cell_type": "code",
   "execution_count": 6,
   "id": "ce0dc5a6",
   "metadata": {},
   "outputs": [
    {
     "ename": "ValueError",
     "evalue": "'Z' is not in list",
     "output_type": "error",
     "traceback": [
      "\u001b[1;31m---------------------------------------------------------------------------\u001b[0m",
      "\u001b[1;31mValueError\u001b[0m                                Traceback (most recent call last)",
      "Cell \u001b[1;32mIn[6], line 1\u001b[0m\n\u001b[1;32m----> 1\u001b[0m my_list\u001b[38;5;241m.\u001b[39mindex(\u001b[38;5;124m'\u001b[39m\u001b[38;5;124mZ\u001b[39m\u001b[38;5;124m'\u001b[39m)\n",
      "\u001b[1;31mValueError\u001b[0m: 'Z' is not in list"
     ]
    }
   ],
   "source": [
    "my_list.index('Z')"
   ]
  },
  {
   "cell_type": "code",
   "execution_count": 7,
   "id": "2a220550",
   "metadata": {},
   "outputs": [
    {
     "name": "stdout",
     "output_type": "stream",
     "text": [
      "A\n",
      "N\n",
      "I\n",
      "M\n",
      "A\n",
      "L\n",
      "B\n",
      "E\n",
      "H\n",
      "A\n",
      "V\n",
      "I\n",
      "O\n",
      "R\n"
     ]
    }
   ],
   "source": [
    "my_list = ['A','N','I','M','A','L','B','E','H','A','V','I','O','R']\n",
    "\n",
    "for letter in my_list:\n",
    "    print(letter)"
   ]
  },
  {
   "cell_type": "code",
   "execution_count": 10,
   "id": "29c16387",
   "metadata": {},
   "outputs": [
    {
     "name": "stdout",
     "output_type": "stream",
     "text": [
      "[1, 4, 9, 16, 25, 36]\n"
     ]
    }
   ],
   "source": [
    "numbers = [1,2,3,4,5,6]\n",
    "squared_numbers = [x**2 for x in numbers]\n",
    "print(squared_numbers)"
   ]
  },
  {
   "cell_type": "code",
   "execution_count": 17,
   "id": "7a3b6db0",
   "metadata": {},
   "outputs": [
    {
     "name": "stdout",
     "output_type": "stream",
     "text": [
      "[1, 2, 3]\n",
      "2\n",
      "[1, 10, 3]\n",
      "[1, 10, 3]\n",
      "[4, 5, 6]\n",
      "[7, 8, 9]\n",
      "1\n",
      "10\n",
      "3\n",
      "4\n",
      "5\n",
      "6\n",
      "7\n",
      "8\n",
      "9\n",
      "[[1, 100, 9], [16, 25, 36], [49, 64, 81]]\n",
      "[1, 10, 3, 4, 5, 6, 7, 8, 9]\n"
     ]
    }
   ],
   "source": [
    "# Creating a nested list (3x3 matrix with three lists inside the main list)\n",
    "nested_list = [[1,2,3],[4,5,6],[7,8,9]]\n",
    "\n",
    "# Access the first list\n",
    "print(nested_list[0])  # Outputs: [1, 2, 3]\n",
    "\n",
    "# Access the second element of the first list\n",
    "print(nested_list[0][1])  # Outputs: 2\n",
    "\n",
    "# Change the value at position 2 of the first list\n",
    "nested_list[0][1] = 10\n",
    "print(nested_list[0])  # Outputs: [1, 10, 3]\n",
    "\n",
    "# Iterating over bested lists\n",
    "for sublist in nested_list:\n",
    "    print(sublist)\n",
    "# Outputs: \n",
    "[1, 10, 3]\n",
    "[4, 5, 6]\n",
    "[7, 8, 9]\n",
    "   \n",
    "for sublist in nested_list:\n",
    "    for item in sublist:\n",
    "        print(item)\n",
    "# Outputs:\n",
    "1\n",
    "10\n",
    "3\n",
    "4\n",
    "5\n",
    "6\n",
    "7\n",
    "8\n",
    "9\n",
    "\n",
    "# Square each number in the nested list\n",
    "squared_list = [[item**2 for item in sublist] for sublist in nested_list]\n",
    "print(squared_list)\n",
    "# Outputs: [[1, 100, 9], [16, 25, 36], [49, 64, 81]]\n",
    "\n",
    "# Flattening a nested list\n",
    "flat_list = [item for sublist in nested_list for item in sublist]\n",
    "print(flat_list)\n",
    "# Outputs: [1, 10, 3, 4, 5, 6, 7, 8, 9]"
   ]
  },
  {
   "cell_type": "code",
   "execution_count": 18,
   "id": "d51a26f6",
   "metadata": {},
   "outputs": [
    {
     "data": {
      "text/plain": [
       "5"
      ]
     },
     "execution_count": 18,
     "metadata": {},
     "output_type": "execute_result"
    }
   ],
   "source": [
    "some_numbers = [1,2,3,4,5]\n",
    "\n",
    "len(some_numbers)\n"
   ]
  },
  {
   "cell_type": "code",
   "execution_count": 19,
   "id": "b4a835d8",
   "metadata": {},
   "outputs": [],
   "source": [
    "animal_behavior = {'chicken': 'omnivorous',\n",
    "                   'cow': 'herbivorous',\n",
    "                   'pig': 'omnivorous'\n",
    "                  }\n"
   ]
  },
  {
   "cell_type": "code",
   "execution_count": 20,
   "id": "31eee18f",
   "metadata": {},
   "outputs": [
    {
     "name": "stdout",
     "output_type": "stream",
     "text": [
      "chicken\n",
      "cow\n",
      "pig\n",
      "omnivorous\n",
      "herbivorous\n",
      "omnivorous\n",
      "The chicken is omnivorous.\n",
      "The cow is herbivorous.\n",
      "The pig is omnivorous.\n"
     ]
    }
   ],
   "source": [
    "# Iterating over keys\n",
    "for animal in animal_behavior.keys():\n",
    "    print(animal)\n",
    "\n",
    "# Iterating over values\n",
    "for behavior in animal_behavior.values():\n",
    "    print(behavior)\n",
    "\n",
    "# Iterating over both keys and values\n",
    "for animal, behavior in animal_behavior.items():\n",
    "    print(f\"The {animal} is {behavior}.\")"
   ]
  },
  {
   "cell_type": "code",
   "execution_count": 21,
   "id": "3fb29b02",
   "metadata": {},
   "outputs": [
    {
     "data": {
      "text/plain": [
       "False"
      ]
     },
     "execution_count": 21,
     "metadata": {},
     "output_type": "execute_result"
    }
   ],
   "source": [
    "'lion' in animal_behavior"
   ]
  },
  {
   "cell_type": "code",
   "execution_count": 28,
   "id": "a95dfe58",
   "metadata": {},
   "outputs": [
    {
     "name": "stdout",
     "output_type": "stream",
     "text": [
      "('moo', 'baa', 'cluck', 'squeak')\n"
     ]
    }
   ],
   "source": [
    "animal_sounds = (\"moo\", \"baa\")\n",
    "\n",
    "# Adding another sound to the tuple\n",
    "animal_sounds += (\"cluck\",\"squeak\")\n",
    "\n",
    "print(animal_sounds)\n"
   ]
  },
  {
   "cell_type": "code",
   "execution_count": 29,
   "id": "b8f990b6",
   "metadata": {},
   "outputs": [
    {
     "name": "stdout",
     "output_type": "stream",
     "text": [
      "{'turkey', 'sheep', 'goat', 'horse'}\n"
     ]
    }
   ],
   "source": [
    "# List of animals recorded over multiple days\n",
    "recorded_animals = ['sheep', 'horse', 'goat', 'horse', 'sheep', 'goat', 'turkey']\n",
    "\n",
    "# Converting the list to a set to get unique animals\n",
    "unique_animals = set(recorded_animals)\n",
    "\n",
    "print(unique_animals)\n"
   ]
  },
  {
   "cell_type": "code",
   "execution_count": 30,
   "id": "819421be",
   "metadata": {
    "scrolled": true
   },
   "outputs": [
    {
     "data": {
      "text/plain": [
       "set"
      ]
     },
     "execution_count": 30,
     "metadata": {},
     "output_type": "execute_result"
    }
   ],
   "source": [
    "type(unique_animals)"
   ]
  },
  {
   "cell_type": "code",
   "execution_count": 31,
   "id": "c183fc53",
   "metadata": {},
   "outputs": [
    {
     "name": "stdout",
     "output_type": "stream",
     "text": [
      "{'sheep', 'goat', 'horse'}\n"
     ]
    }
   ],
   "source": [
    "animals = {\"sheep\", \"horse\", \"goat\"}\n",
    "print(animals)  # Output: {'goat', 'horse', 'sheep'}\n"
   ]
  },
  {
   "cell_type": "code",
   "execution_count": 32,
   "id": "15618a92",
   "metadata": {},
   "outputs": [
    {
     "name": "stdout",
     "output_type": "stream",
     "text": [
      "{'sheep', 'goat', 'horse'}\n"
     ]
    }
   ],
   "source": [
    "animals = {\"sheep\", \"horse\", \"goat\"}\n",
    "print(animals)  # Output: {'goat', 'horse', 'sheep'}\n"
   ]
  },
  {
   "cell_type": "code",
   "execution_count": 35,
   "id": "c546c564",
   "metadata": {},
   "outputs": [
    {
     "name": "stdout",
     "output_type": "stream",
     "text": [
      "{'duck', 'goat', 'horse', 'sheep', 'turkey'}\n",
      "{'duck', 'goat', 'horse', 'sheep', 'turkey'}\n"
     ]
    }
   ],
   "source": [
    "farm1 = {\"sheep\", \"horse\", \"goat\"}\n",
    "farm2 = {\"turkey\", \"horse\", \"duck\"}\n",
    "union_farm = farm1 | farm2\n",
    "print(union_farm)  # Output: {'duck', 'goat', 'turkey', 'horse', 'sheep'}\n",
    "# or\n",
    "union_farm = farm1.union(farm2)\n",
    "print(union_farm)  # Output: {'duck', 'goat', 'turkey', 'horse', 'sheep'}"
   ]
  },
  {
   "cell_type": "code",
   "execution_count": 36,
   "id": "da1a9a7b",
   "metadata": {},
   "outputs": [
    {
     "name": "stdout",
     "output_type": "stream",
     "text": [
      "{'horse'}\n",
      "{'horse'}\n"
     ]
    }
   ],
   "source": [
    "common_animals = farm1 & farm2\n",
    "print(common_animals)  # Output: {'horse'}\n",
    "# or\n",
    "common_animals = farm1.intersection(farm2)\n",
    "print(common_animals)  # Output: {'horse'}"
   ]
  },
  {
   "cell_type": "code",
   "execution_count": null,
   "id": "b30f9a02",
   "metadata": {},
   "outputs": [],
   "source": [
    "unique_to_farm1 = farm1 - farm2\n",
    "print(unique_to_farm1)  # Output: {'goat', 'sheep'}\n",
    "# or\n",
    "unique_to_farm1 = farm1.difference(farm2)\n",
    "print(unique_to_farm1)  # Output: {'goat', 'sheep'}"
   ]
  },
  {
   "cell_type": "code",
   "execution_count": 37,
   "id": "24843b7e",
   "metadata": {},
   "outputs": [
    {
     "name": "stdout",
     "output_type": "stream",
     "text": [
      "True\n",
      "True\n"
     ]
    }
   ],
   "source": [
    "set1 = {\"sheep\", \"horse\"}\n",
    "print(set1.issubset(farm1))  # Output: True\n",
    "\n",
    "print(farm1.issuperset(set1))  # Output: True"
   ]
  },
  {
   "cell_type": "code",
   "execution_count": 38,
   "id": "36a792d4",
   "metadata": {},
   "outputs": [
    {
     "name": "stdout",
     "output_type": "stream",
     "text": [
      "set()\n"
     ]
    }
   ],
   "source": [
    "animals.clear()\n",
    "print(animals)  \n"
   ]
  },
  {
   "cell_type": "code",
   "execution_count": 39,
   "id": "dbd62b53",
   "metadata": {},
   "outputs": [
    {
     "name": "stdout",
     "output_type": "stream",
     "text": [
      "It's cold outside.\n"
     ]
    }
   ],
   "source": [
    "temperature = 15\n",
    "if temperature < 20:\n",
    "    print(\"It's cold outside.\")\n"
   ]
  },
  {
   "cell_type": "code",
   "execution_count": 40,
   "id": "3e870a85",
   "metadata": {},
   "outputs": [
    {
     "name": "stdout",
     "output_type": "stream",
     "text": [
      "sheep\n",
      "horse\n",
      "goat\n"
     ]
    }
   ],
   "source": [
    "animals = ['sheep', 'horse', 'goat']\n",
    "for animal in animals:\n",
    "    print(animal)\n",
    "\n",
    "# Output: It's cold outside\n"
   ]
  },
  {
   "cell_type": "code",
   "execution_count": 41,
   "id": "97ed2074",
   "metadata": {},
   "outputs": [
    {
     "name": "stdout",
     "output_type": "stream",
     "text": [
      "0\n",
      "1\n",
      "2\n"
     ]
    }
   ],
   "source": [
    "count = 0\n",
    "while count < 3:\n",
    "    print(count)\n",
    "    count += 1\n"
   ]
  },
  {
   "cell_type": "code",
   "execution_count": 42,
   "id": "2b513a6e",
   "metadata": {},
   "outputs": [
    {
     "name": "stdout",
     "output_type": "stream",
     "text": [
      "x is the largest\n"
     ]
    }
   ],
   "source": [
    "x = 5\n",
    "y = 3\n",
    "z = 4\n",
    "\n",
    "if x > y:\n",
    "    if x > z:\n",
    "        print(\"x is the largest\")\n",
    "    else:\n",
    "        print(\"z is larger than x but x is larger than y\")\n",
    "\n",
    "# Output: It's cold outside\n"
   ]
  },
  {
   "cell_type": "code",
   "execution_count": 43,
   "id": "4828be70",
   "metadata": {},
   "outputs": [
    {
     "name": "stdout",
     "output_type": "stream",
     "text": [
      "Division successful! Result is: 5.0\n",
      "compute_division execution completed.\n",
      "5.0\n",
      "Error: division by zero. Division by zero is not allowed!\n",
      "compute_division execution completed.\n",
      "None\n",
      "Error: unsupported operand type(s) for /: 'str' and 'int'. Ensure both x and y are numbers!\n",
      "compute_division execution completed.\n",
      "None\n"
     ]
    }
   ],
   "source": [
    "def compute_division(x, y):\n",
    "    try:\n",
    "        result = x / y\n",
    "    except ZeroDivisionError as e:\n",
    "        print(f\"Error: {e}. Division by zero is not allowed!\")\n",
    "        return None\n",
    "    except TypeError as e:\n",
    "        print(f\"Error: {e}. Ensure both x and y are numbers!\")\n",
    "        return None\n",
    "    else:\n",
    "        print(f\"Division successful! Result is: {result}\")\n",
    "        return result\n",
    "    finally:\n",
    "        print(\"compute_division execution completed.\")\n",
    "\n",
    "# Test cases\n",
    "print(compute_division(10, 2))\n",
    "print(compute_division(10, 0))\n",
    "print(compute_division(\"10\", 2))"
   ]
  },
  {
   "cell_type": "code",
   "execution_count": 44,
   "id": "574e818b",
   "metadata": {},
   "outputs": [
    {
     "name": "stdout",
     "output_type": "stream",
     "text": [
      "Division successful! Result is: 5.0\n",
      "compute_division execution completed.\n",
      "5.0\n"
     ]
    }
   ],
   "source": [
    "print(compute_division(10, 2))"
   ]
  },
  {
   "cell_type": "code",
   "execution_count": 45,
   "id": "cbee50bb",
   "metadata": {},
   "outputs": [
    {
     "name": "stdout",
     "output_type": "stream",
     "text": [
      "Error: division by zero. Division by zero is not allowed!\n",
      "compute_division execution completed.\n",
      "None\n"
     ]
    }
   ],
   "source": [
    "print(compute_division(10, 0))"
   ]
  },
  {
   "cell_type": "code",
   "execution_count": 46,
   "id": "c7072d64",
   "metadata": {},
   "outputs": [
    {
     "name": "stdout",
     "output_type": "stream",
     "text": [
      "Error: unsupported operand type(s) for /: 'str' and 'int'. Ensure both x and y are numbers!\n",
      "compute_division execution completed.\n",
      "None\n"
     ]
    }
   ],
   "source": [
    "print(compute_division(\"10\", 2))\n"
   ]
  },
  {
   "cell_type": "code",
   "execution_count": 47,
   "id": "32b9483f",
   "metadata": {},
   "outputs": [
    {
     "name": "stdout",
     "output_type": "stream",
     "text": [
      "Age cannot be negative!\n"
     ]
    }
   ],
   "source": [
    "def validate_age(age):\n",
    "    if age < 0:\n",
    "        raise ValueError(\"Age cannot be negative!\")\n",
    "    return age\n",
    "try:\n",
    "    validate_age(-5)\n",
    "except ValueError as e:\n",
    "    print(e)\n"
   ]
  },
  {
   "cell_type": "code",
   "execution_count": 48,
   "id": "ff0d8a66",
   "metadata": {},
   "outputs": [
    {
     "data": {
      "text/plain": [
       "10"
      ]
     },
     "execution_count": 48,
     "metadata": {},
     "output_type": "execute_result"
    }
   ],
   "source": [
    "validate_age(10)"
   ]
  },
  {
   "cell_type": "code",
   "execution_count": 49,
   "id": "a13f60b9",
   "metadata": {},
   "outputs": [
    {
     "ename": "ValueError",
     "evalue": "Age cannot be negative!",
     "output_type": "error",
     "traceback": [
      "\u001b[1;31m---------------------------------------------------------------------------\u001b[0m",
      "\u001b[1;31mValueError\u001b[0m                                Traceback (most recent call last)",
      "Cell \u001b[1;32mIn[49], line 1\u001b[0m\n\u001b[1;32m----> 1\u001b[0m validate_age(\u001b[38;5;241m-\u001b[39m\u001b[38;5;241m5\u001b[39m)\n",
      "Cell \u001b[1;32mIn[47], line 3\u001b[0m, in \u001b[0;36mvalidate_age\u001b[1;34m(age)\u001b[0m\n\u001b[0;32m      1\u001b[0m \u001b[38;5;28;01mdef\u001b[39;00m \u001b[38;5;21mvalidate_age\u001b[39m(age):\n\u001b[0;32m      2\u001b[0m     \u001b[38;5;28;01mif\u001b[39;00m age \u001b[38;5;241m<\u001b[39m \u001b[38;5;241m0\u001b[39m:\n\u001b[1;32m----> 3\u001b[0m         \u001b[38;5;28;01mraise\u001b[39;00m \u001b[38;5;167;01mValueError\u001b[39;00m(\u001b[38;5;124m\"\u001b[39m\u001b[38;5;124mAge cannot be negative!\u001b[39m\u001b[38;5;124m\"\u001b[39m)\n\u001b[0;32m      4\u001b[0m     \u001b[38;5;28;01mreturn\u001b[39;00m age\n",
      "\u001b[1;31mValueError\u001b[0m: Age cannot be negative!"
     ]
    }
   ],
   "source": [
    "validate_age(-5)"
   ]
  },
  {
   "cell_type": "code",
   "execution_count": 53,
   "id": "98adf3e8",
   "metadata": {},
   "outputs": [
    {
     "name": "stdout",
     "output_type": "stream",
     "text": [
      "Age cannot be negative!\n"
     ]
    }
   ],
   "source": [
    "class InvalidAgeError(Exception):\n",
    "    pass\n",
    "\n",
    "def validate_age_custom(age):\n",
    "    if age < 0:\n",
    "        raise InvalidAgeError(\"Age cannot be negative!\")\n",
    "    return age\n",
    "\n",
    "try:\n",
    "    validate_age_custom(-5)\n",
    "except InvalidAgeError as e:\n",
    "    print(e)\n"
   ]
  },
  {
   "cell_type": "code",
   "execution_count": 54,
   "id": "d3006919",
   "metadata": {},
   "outputs": [],
   "source": [
    "def function_name(parameters):\n",
    "    \"\"\"docstring\"\"\"\n",
    "    # Function body\n",
    "    return result\n"
   ]
  },
  {
   "cell_type": "code",
   "execution_count": 59,
   "id": "cc1be5a0",
   "metadata": {},
   "outputs": [],
   "source": [
    "import random\n",
    "\n",
    "def generate_simulated_data(num_samples=100):\n",
    "    \"\"\"\n",
    "    Generate a simulated dataset for animal behavior.\n",
    "\n",
    "    Parameters:\n",
    "    - num_samples: Number of samples in the dataset.\n",
    "\n",
    "    Returns:\n",
    "    - A list of dictionaries containing simulated data.\n",
    "    \"\"\"\n",
    "    \n",
    "    simulated_data = []\n",
    "\n",
    "    for _ in range(num_samples):\n",
    "        entry = {\n",
    "            \"animal_id\": random.choice([\"A\", \"B\", \"C\", \"D\", \"E\"]),  # Assuming 5 different animals for simplicity\n",
    "            \"activity_duration\": random.randint(1, 100),           # Duration of activity in minutes\n",
    "            \"proximity_to_others\": random.uniform(0.1, 50.0),      # Proximity to other animals in meters\n",
    "            \"noise_levels\": random.uniform(20.0, 120.0),           # Noise levels in decibels\n",
    "            \"timestamp\": f\"2023-09-{random.randint(1, 30)} {random.randint(0, 23)}:{random.randint(0, 59)}:00\"  # Random timestamp in September 2023\n",
    "        }\n",
    "        simulated_data.append(entry)\n",
    "\n",
    "    return simulated_data\n",
    "\n",
    "# Generate simulated data\n",
    "simulated_dataset = generate_simulated_data()\n",
    "\n"
   ]
  },
  {
   "cell_type": "code",
   "execution_count": 60,
   "id": "053c5acb",
   "metadata": {},
   "outputs": [
    {
     "data": {
      "text/plain": [
       "[{'animal_id': 'C',\n",
       "  'activity_duration': 73,\n",
       "  'proximity_to_others': 0.9483354999591901,\n",
       "  'noise_levels': 35.511872426017135,\n",
       "  'timestamp': '2023-09-28 18:3:00'},\n",
       " {'animal_id': 'D',\n",
       "  'activity_duration': 90,\n",
       "  'proximity_to_others': 44.288881062997284,\n",
       "  'noise_levels': 103.35611315751727,\n",
       "  'timestamp': '2023-09-12 4:55:00'},\n",
       " {'animal_id': 'A',\n",
       "  'activity_duration': 14,\n",
       "  'proximity_to_others': 47.60452084760426,\n",
       "  'noise_levels': 35.91560090717618,\n",
       "  'timestamp': '2023-09-24 23:22:00'},\n",
       " {'animal_id': 'C',\n",
       "  'activity_duration': 17,\n",
       "  'proximity_to_others': 36.229130574522706,\n",
       "  'noise_levels': 57.57790194978819,\n",
       "  'timestamp': '2023-09-18 3:4:00'},\n",
       " {'animal_id': 'A',\n",
       "  'activity_duration': 8,\n",
       "  'proximity_to_others': 30.173868240893153,\n",
       "  'noise_levels': 69.32790892557003,\n",
       "  'timestamp': '2023-09-25 16:39:00'},\n",
       " {'animal_id': 'B',\n",
       "  'activity_duration': 91,\n",
       "  'proximity_to_others': 38.60832540161874,\n",
       "  'noise_levels': 75.89031219355388,\n",
       "  'timestamp': '2023-09-19 21:15:00'},\n",
       " {'animal_id': 'C',\n",
       "  'activity_duration': 52,\n",
       "  'proximity_to_others': 35.673156179215006,\n",
       "  'noise_levels': 52.55375778957422,\n",
       "  'timestamp': '2023-09-27 1:41:00'},\n",
       " {'animal_id': 'A',\n",
       "  'activity_duration': 21,\n",
       "  'proximity_to_others': 44.564091674085326,\n",
       "  'noise_levels': 43.318096509103604,\n",
       "  'timestamp': '2023-09-1 19:1:00'},\n",
       " {'animal_id': 'C',\n",
       "  'activity_duration': 93,\n",
       "  'proximity_to_others': 34.84468166438884,\n",
       "  'noise_levels': 51.612332961398124,\n",
       "  'timestamp': '2023-09-5 21:49:00'},\n",
       " {'animal_id': 'A',\n",
       "  'activity_duration': 70,\n",
       "  'proximity_to_others': 36.007374614158316,\n",
       "  'noise_levels': 30.19632049041296,\n",
       "  'timestamp': '2023-09-1 14:48:00'},\n",
       " {'animal_id': 'A',\n",
       "  'activity_duration': 29,\n",
       "  'proximity_to_others': 35.941746742389846,\n",
       "  'noise_levels': 96.47832077789307,\n",
       "  'timestamp': '2023-09-18 20:47:00'},\n",
       " {'animal_id': 'A',\n",
       "  'activity_duration': 90,\n",
       "  'proximity_to_others': 5.470059942538662,\n",
       "  'noise_levels': 90.86057009950422,\n",
       "  'timestamp': '2023-09-9 4:1:00'},\n",
       " {'animal_id': 'D',\n",
       "  'activity_duration': 20,\n",
       "  'proximity_to_others': 43.665164169630685,\n",
       "  'noise_levels': 82.90471117442277,\n",
       "  'timestamp': '2023-09-25 12:11:00'},\n",
       " {'animal_id': 'A',\n",
       "  'activity_duration': 29,\n",
       "  'proximity_to_others': 49.56714592120959,\n",
       "  'noise_levels': 20.712361401563154,\n",
       "  'timestamp': '2023-09-10 14:51:00'},\n",
       " {'animal_id': 'A',\n",
       "  'activity_duration': 73,\n",
       "  'proximity_to_others': 6.111158880922379,\n",
       "  'noise_levels': 101.38124943340742,\n",
       "  'timestamp': '2023-09-27 15:43:00'},\n",
       " {'animal_id': 'C',\n",
       "  'activity_duration': 46,\n",
       "  'proximity_to_others': 25.61478871272419,\n",
       "  'noise_levels': 105.08170730761768,\n",
       "  'timestamp': '2023-09-17 0:2:00'},\n",
       " {'animal_id': 'A',\n",
       "  'activity_duration': 95,\n",
       "  'proximity_to_others': 34.23615900304287,\n",
       "  'noise_levels': 61.96355016046284,\n",
       "  'timestamp': '2023-09-28 1:46:00'},\n",
       " {'animal_id': 'C',\n",
       "  'activity_duration': 54,\n",
       "  'proximity_to_others': 44.17373465030832,\n",
       "  'noise_levels': 64.11687400761417,\n",
       "  'timestamp': '2023-09-5 10:54:00'},\n",
       " {'animal_id': 'C',\n",
       "  'activity_duration': 63,\n",
       "  'proximity_to_others': 27.985986498862406,\n",
       "  'noise_levels': 51.365111512774625,\n",
       "  'timestamp': '2023-09-22 10:13:00'},\n",
       " {'animal_id': 'D',\n",
       "  'activity_duration': 85,\n",
       "  'proximity_to_others': 12.525070298658996,\n",
       "  'noise_levels': 113.4656309410293,\n",
       "  'timestamp': '2023-09-2 0:5:00'},\n",
       " {'animal_id': 'A',\n",
       "  'activity_duration': 3,\n",
       "  'proximity_to_others': 42.752941228950974,\n",
       "  'noise_levels': 104.18224724942681,\n",
       "  'timestamp': '2023-09-22 15:4:00'},\n",
       " {'animal_id': 'A',\n",
       "  'activity_duration': 1,\n",
       "  'proximity_to_others': 41.26074154205449,\n",
       "  'noise_levels': 35.56519249358007,\n",
       "  'timestamp': '2023-09-10 13:13:00'},\n",
       " {'animal_id': 'D',\n",
       "  'activity_duration': 59,\n",
       "  'proximity_to_others': 9.188829706897524,\n",
       "  'noise_levels': 45.280190223410784,\n",
       "  'timestamp': '2023-09-13 23:48:00'},\n",
       " {'animal_id': 'E',\n",
       "  'activity_duration': 27,\n",
       "  'proximity_to_others': 11.304126850876992,\n",
       "  'noise_levels': 108.93271281608806,\n",
       "  'timestamp': '2023-09-1 2:44:00'},\n",
       " {'animal_id': 'B',\n",
       "  'activity_duration': 63,\n",
       "  'proximity_to_others': 32.691026193994006,\n",
       "  'noise_levels': 79.03328327988046,\n",
       "  'timestamp': '2023-09-27 11:58:00'},\n",
       " {'animal_id': 'D',\n",
       "  'activity_duration': 27,\n",
       "  'proximity_to_others': 19.879310653651874,\n",
       "  'noise_levels': 78.52154360297156,\n",
       "  'timestamp': '2023-09-12 22:3:00'},\n",
       " {'animal_id': 'D',\n",
       "  'activity_duration': 53,\n",
       "  'proximity_to_others': 17.199419180773127,\n",
       "  'noise_levels': 89.82837085938371,\n",
       "  'timestamp': '2023-09-28 17:42:00'},\n",
       " {'animal_id': 'B',\n",
       "  'activity_duration': 3,\n",
       "  'proximity_to_others': 12.880562755024048,\n",
       "  'noise_levels': 40.97363101230045,\n",
       "  'timestamp': '2023-09-18 17:24:00'},\n",
       " {'animal_id': 'B',\n",
       "  'activity_duration': 14,\n",
       "  'proximity_to_others': 22.702192859783004,\n",
       "  'noise_levels': 51.72179451372074,\n",
       "  'timestamp': '2023-09-2 22:22:00'},\n",
       " {'animal_id': 'A',\n",
       "  'activity_duration': 49,\n",
       "  'proximity_to_others': 12.10120418023192,\n",
       "  'noise_levels': 76.66455405150191,\n",
       "  'timestamp': '2023-09-20 13:56:00'},\n",
       " {'animal_id': 'B',\n",
       "  'activity_duration': 17,\n",
       "  'proximity_to_others': 9.762381151376879,\n",
       "  'noise_levels': 84.43975550747754,\n",
       "  'timestamp': '2023-09-17 1:14:00'},\n",
       " {'animal_id': 'A',\n",
       "  'activity_duration': 13,\n",
       "  'proximity_to_others': 8.026609503666162,\n",
       "  'noise_levels': 56.26981798733272,\n",
       "  'timestamp': '2023-09-26 17:55:00'},\n",
       " {'animal_id': 'B',\n",
       "  'activity_duration': 57,\n",
       "  'proximity_to_others': 3.344872044562528,\n",
       "  'noise_levels': 20.481216251754468,\n",
       "  'timestamp': '2023-09-18 6:7:00'},\n",
       " {'animal_id': 'D',\n",
       "  'activity_duration': 56,\n",
       "  'proximity_to_others': 20.809233900016118,\n",
       "  'noise_levels': 104.02851558410322,\n",
       "  'timestamp': '2023-09-16 16:59:00'},\n",
       " {'animal_id': 'D',\n",
       "  'activity_duration': 75,\n",
       "  'proximity_to_others': 3.6216447520026747,\n",
       "  'noise_levels': 110.05892714805887,\n",
       "  'timestamp': '2023-09-9 21:24:00'},\n",
       " {'animal_id': 'C',\n",
       "  'activity_duration': 69,\n",
       "  'proximity_to_others': 9.051004981754675,\n",
       "  'noise_levels': 83.04587028867846,\n",
       "  'timestamp': '2023-09-11 22:48:00'},\n",
       " {'animal_id': 'D',\n",
       "  'activity_duration': 65,\n",
       "  'proximity_to_others': 29.780560741559192,\n",
       "  'noise_levels': 119.21219076207579,\n",
       "  'timestamp': '2023-09-5 6:48:00'},\n",
       " {'animal_id': 'A',\n",
       "  'activity_duration': 27,\n",
       "  'proximity_to_others': 28.34046488996958,\n",
       "  'noise_levels': 34.725585820513366,\n",
       "  'timestamp': '2023-09-15 21:15:00'},\n",
       " {'animal_id': 'B',\n",
       "  'activity_duration': 3,\n",
       "  'proximity_to_others': 45.35803612769007,\n",
       "  'noise_levels': 36.24993594071026,\n",
       "  'timestamp': '2023-09-25 12:57:00'},\n",
       " {'animal_id': 'C',\n",
       "  'activity_duration': 71,\n",
       "  'proximity_to_others': 40.40130856330062,\n",
       "  'noise_levels': 99.10590927341511,\n",
       "  'timestamp': '2023-09-7 7:16:00'},\n",
       " {'animal_id': 'A',\n",
       "  'activity_duration': 22,\n",
       "  'proximity_to_others': 29.15166630324939,\n",
       "  'noise_levels': 20.329625818827495,\n",
       "  'timestamp': '2023-09-17 20:32:00'},\n",
       " {'animal_id': 'C',\n",
       "  'activity_duration': 30,\n",
       "  'proximity_to_others': 39.59170222334674,\n",
       "  'noise_levels': 71.6355528647867,\n",
       "  'timestamp': '2023-09-15 11:18:00'},\n",
       " {'animal_id': 'D',\n",
       "  'activity_duration': 65,\n",
       "  'proximity_to_others': 18.092453448871744,\n",
       "  'noise_levels': 111.99139823721426,\n",
       "  'timestamp': '2023-09-30 7:0:00'},\n",
       " {'animal_id': 'A',\n",
       "  'activity_duration': 26,\n",
       "  'proximity_to_others': 6.590539986577729,\n",
       "  'noise_levels': 39.56235413650134,\n",
       "  'timestamp': '2023-09-13 15:28:00'},\n",
       " {'animal_id': 'E',\n",
       "  'activity_duration': 78,\n",
       "  'proximity_to_others': 41.666673182864976,\n",
       "  'noise_levels': 64.69791282186273,\n",
       "  'timestamp': '2023-09-29 17:47:00'},\n",
       " {'animal_id': 'E',\n",
       "  'activity_duration': 4,\n",
       "  'proximity_to_others': 41.24683546480002,\n",
       "  'noise_levels': 38.254247873300045,\n",
       "  'timestamp': '2023-09-3 21:4:00'},\n",
       " {'animal_id': 'C',\n",
       "  'activity_duration': 17,\n",
       "  'proximity_to_others': 49.93392445807414,\n",
       "  'noise_levels': 48.52573176537678,\n",
       "  'timestamp': '2023-09-14 7:21:00'},\n",
       " {'animal_id': 'D',\n",
       "  'activity_duration': 81,\n",
       "  'proximity_to_others': 23.00558641601078,\n",
       "  'noise_levels': 60.889260019527555,\n",
       "  'timestamp': '2023-09-24 0:15:00'},\n",
       " {'animal_id': 'B',\n",
       "  'activity_duration': 45,\n",
       "  'proximity_to_others': 11.383650730435052,\n",
       "  'noise_levels': 74.9566620892094,\n",
       "  'timestamp': '2023-09-10 16:39:00'},\n",
       " {'animal_id': 'D',\n",
       "  'activity_duration': 73,\n",
       "  'proximity_to_others': 32.503427956388,\n",
       "  'noise_levels': 99.98474959805361,\n",
       "  'timestamp': '2023-09-29 20:47:00'},\n",
       " {'animal_id': 'C',\n",
       "  'activity_duration': 50,\n",
       "  'proximity_to_others': 32.06923560985283,\n",
       "  'noise_levels': 55.50881966287972,\n",
       "  'timestamp': '2023-09-3 4:27:00'},\n",
       " {'animal_id': 'E',\n",
       "  'activity_duration': 86,\n",
       "  'proximity_to_others': 5.914841482858159,\n",
       "  'noise_levels': 59.029535567689365,\n",
       "  'timestamp': '2023-09-2 16:45:00'},\n",
       " {'animal_id': 'C',\n",
       "  'activity_duration': 60,\n",
       "  'proximity_to_others': 16.46635197758348,\n",
       "  'noise_levels': 25.547532430331703,\n",
       "  'timestamp': '2023-09-3 5:13:00'},\n",
       " {'animal_id': 'A',\n",
       "  'activity_duration': 9,\n",
       "  'proximity_to_others': 34.55614709759856,\n",
       "  'noise_levels': 95.04891935157518,\n",
       "  'timestamp': '2023-09-29 10:13:00'},\n",
       " {'animal_id': 'C',\n",
       "  'activity_duration': 44,\n",
       "  'proximity_to_others': 39.305132552923986,\n",
       "  'noise_levels': 104.43366367055421,\n",
       "  'timestamp': '2023-09-18 14:36:00'},\n",
       " {'animal_id': 'B',\n",
       "  'activity_duration': 96,\n",
       "  'proximity_to_others': 27.367853909446215,\n",
       "  'noise_levels': 113.51487379798425,\n",
       "  'timestamp': '2023-09-3 10:45:00'},\n",
       " {'animal_id': 'E',\n",
       "  'activity_duration': 74,\n",
       "  'proximity_to_others': 2.356091447414689,\n",
       "  'noise_levels': 43.32807344853134,\n",
       "  'timestamp': '2023-09-27 1:34:00'},\n",
       " {'animal_id': 'B',\n",
       "  'activity_duration': 5,\n",
       "  'proximity_to_others': 39.86672602052788,\n",
       "  'noise_levels': 117.1124439811737,\n",
       "  'timestamp': '2023-09-29 12:2:00'},\n",
       " {'animal_id': 'D',\n",
       "  'activity_duration': 86,\n",
       "  'proximity_to_others': 39.93394646227247,\n",
       "  'noise_levels': 106.16627203097002,\n",
       "  'timestamp': '2023-09-21 21:49:00'},\n",
       " {'animal_id': 'A',\n",
       "  'activity_duration': 49,\n",
       "  'proximity_to_others': 23.901379167714683,\n",
       "  'noise_levels': 37.94967226333883,\n",
       "  'timestamp': '2023-09-20 15:0:00'},\n",
       " {'animal_id': 'E',\n",
       "  'activity_duration': 94,\n",
       "  'proximity_to_others': 45.38458375189568,\n",
       "  'noise_levels': 93.75848465650068,\n",
       "  'timestamp': '2023-09-22 21:12:00'},\n",
       " {'animal_id': 'C',\n",
       "  'activity_duration': 31,\n",
       "  'proximity_to_others': 4.831343725846766,\n",
       "  'noise_levels': 33.28827812335227,\n",
       "  'timestamp': '2023-09-4 21:52:00'},\n",
       " {'animal_id': 'B',\n",
       "  'activity_duration': 63,\n",
       "  'proximity_to_others': 2.7767308631367187,\n",
       "  'noise_levels': 69.81574138210163,\n",
       "  'timestamp': '2023-09-21 2:16:00'},\n",
       " {'animal_id': 'C',\n",
       "  'activity_duration': 36,\n",
       "  'proximity_to_others': 22.754823203254197,\n",
       "  'noise_levels': 74.94451333055909,\n",
       "  'timestamp': '2023-09-3 18:27:00'},\n",
       " {'animal_id': 'B',\n",
       "  'activity_duration': 41,\n",
       "  'proximity_to_others': 29.15244593393743,\n",
       "  'noise_levels': 26.207240853043473,\n",
       "  'timestamp': '2023-09-18 18:48:00'},\n",
       " {'animal_id': 'B',\n",
       "  'activity_duration': 10,\n",
       "  'proximity_to_others': 0.8314829886082675,\n",
       "  'noise_levels': 38.69352831700442,\n",
       "  'timestamp': '2023-09-17 0:57:00'},\n",
       " {'animal_id': 'D',\n",
       "  'activity_duration': 85,\n",
       "  'proximity_to_others': 3.802144352806117,\n",
       "  'noise_levels': 52.98689119080199,\n",
       "  'timestamp': '2023-09-18 17:26:00'},\n",
       " {'animal_id': 'A',\n",
       "  'activity_duration': 93,\n",
       "  'proximity_to_others': 23.86488966041471,\n",
       "  'noise_levels': 22.041172329741492,\n",
       "  'timestamp': '2023-09-28 0:21:00'},\n",
       " {'animal_id': 'C',\n",
       "  'activity_duration': 64,\n",
       "  'proximity_to_others': 18.39426545045287,\n",
       "  'noise_levels': 98.54174751506257,\n",
       "  'timestamp': '2023-09-10 2:21:00'},\n",
       " {'animal_id': 'B',\n",
       "  'activity_duration': 84,\n",
       "  'proximity_to_others': 1.4830746908176073,\n",
       "  'noise_levels': 98.4587856265578,\n",
       "  'timestamp': '2023-09-1 13:37:00'},\n",
       " {'animal_id': 'B',\n",
       "  'activity_duration': 62,\n",
       "  'proximity_to_others': 39.22648837681063,\n",
       "  'noise_levels': 48.49143917624466,\n",
       "  'timestamp': '2023-09-20 10:52:00'},\n",
       " {'animal_id': 'C',\n",
       "  'activity_duration': 60,\n",
       "  'proximity_to_others': 5.634507747320195,\n",
       "  'noise_levels': 20.791443137459414,\n",
       "  'timestamp': '2023-09-30 22:44:00'},\n",
       " {'animal_id': 'A',\n",
       "  'activity_duration': 45,\n",
       "  'proximity_to_others': 14.704333080131152,\n",
       "  'noise_levels': 55.21446368272869,\n",
       "  'timestamp': '2023-09-13 9:57:00'},\n",
       " {'animal_id': 'C',\n",
       "  'activity_duration': 53,\n",
       "  'proximity_to_others': 39.76324012342977,\n",
       "  'noise_levels': 24.548147997781783,\n",
       "  'timestamp': '2023-09-18 10:22:00'},\n",
       " {'animal_id': 'A',\n",
       "  'activity_duration': 8,\n",
       "  'proximity_to_others': 45.18188314815451,\n",
       "  'noise_levels': 94.96563111173795,\n",
       "  'timestamp': '2023-09-11 12:39:00'},\n",
       " {'animal_id': 'B',\n",
       "  'activity_duration': 87,\n",
       "  'proximity_to_others': 42.74839116375356,\n",
       "  'noise_levels': 86.00667780488862,\n",
       "  'timestamp': '2023-09-24 4:5:00'},\n",
       " {'animal_id': 'B',\n",
       "  'activity_duration': 10,\n",
       "  'proximity_to_others': 44.68637192558805,\n",
       "  'noise_levels': 57.17986390208912,\n",
       "  'timestamp': '2023-09-16 0:37:00'},\n",
       " {'animal_id': 'C',\n",
       "  'activity_duration': 75,\n",
       "  'proximity_to_others': 36.35323131820808,\n",
       "  'noise_levels': 66.73779424204855,\n",
       "  'timestamp': '2023-09-19 22:3:00'},\n",
       " {'animal_id': 'C',\n",
       "  'activity_duration': 13,\n",
       "  'proximity_to_others': 22.528972252680514,\n",
       "  'noise_levels': 22.498492508915273,\n",
       "  'timestamp': '2023-09-12 23:22:00'},\n",
       " {'animal_id': 'B',\n",
       "  'activity_duration': 13,\n",
       "  'proximity_to_others': 10.563155876284593,\n",
       "  'noise_levels': 29.738391581734597,\n",
       "  'timestamp': '2023-09-24 10:0:00'},\n",
       " {'animal_id': 'B',\n",
       "  'activity_duration': 17,\n",
       "  'proximity_to_others': 15.994032632129592,\n",
       "  'noise_levels': 50.28506804082025,\n",
       "  'timestamp': '2023-09-12 15:48:00'},\n",
       " {'animal_id': 'D',\n",
       "  'activity_duration': 21,\n",
       "  'proximity_to_others': 19.438669838089854,\n",
       "  'noise_levels': 46.43668127786791,\n",
       "  'timestamp': '2023-09-6 19:23:00'},\n",
       " {'animal_id': 'D',\n",
       "  'activity_duration': 35,\n",
       "  'proximity_to_others': 23.993883730450985,\n",
       "  'noise_levels': 38.25048276077797,\n",
       "  'timestamp': '2023-09-5 18:12:00'},\n",
       " {'animal_id': 'D',\n",
       "  'activity_duration': 2,\n",
       "  'proximity_to_others': 13.458835056518618,\n",
       "  'noise_levels': 32.69366273411908,\n",
       "  'timestamp': '2023-09-1 2:7:00'},\n",
       " {'animal_id': 'C',\n",
       "  'activity_duration': 16,\n",
       "  'proximity_to_others': 22.931814305444437,\n",
       "  'noise_levels': 52.935770254737015,\n",
       "  'timestamp': '2023-09-6 1:17:00'},\n",
       " {'animal_id': 'E',\n",
       "  'activity_duration': 31,\n",
       "  'proximity_to_others': 42.938477239663406,\n",
       "  'noise_levels': 52.67665420995045,\n",
       "  'timestamp': '2023-09-20 17:32:00'},\n",
       " {'animal_id': 'E',\n",
       "  'activity_duration': 57,\n",
       "  'proximity_to_others': 25.477001407049652,\n",
       "  'noise_levels': 23.707115425225094,\n",
       "  'timestamp': '2023-09-24 22:15:00'},\n",
       " {'animal_id': 'B',\n",
       "  'activity_duration': 58,\n",
       "  'proximity_to_others': 23.989090379576098,\n",
       "  'noise_levels': 23.822863386275387,\n",
       "  'timestamp': '2023-09-5 2:26:00'},\n",
       " {'animal_id': 'C',\n",
       "  'activity_duration': 33,\n",
       "  'proximity_to_others': 40.736445418334185,\n",
       "  'noise_levels': 89.9787048295433,\n",
       "  'timestamp': '2023-09-17 1:25:00'},\n",
       " {'animal_id': 'B',\n",
       "  'activity_duration': 85,\n",
       "  'proximity_to_others': 24.791129824022175,\n",
       "  'noise_levels': 42.66629441756274,\n",
       "  'timestamp': '2023-09-28 11:28:00'},\n",
       " {'animal_id': 'D',\n",
       "  'activity_duration': 70,\n",
       "  'proximity_to_others': 19.470090702029445,\n",
       "  'noise_levels': 59.41491531780494,\n",
       "  'timestamp': '2023-09-10 7:56:00'},\n",
       " {'animal_id': 'E',\n",
       "  'activity_duration': 48,\n",
       "  'proximity_to_others': 12.268951071472996,\n",
       "  'noise_levels': 24.22533813704321,\n",
       "  'timestamp': '2023-09-20 6:37:00'},\n",
       " {'animal_id': 'B',\n",
       "  'activity_duration': 65,\n",
       "  'proximity_to_others': 22.715668677831367,\n",
       "  'noise_levels': 23.444097960342884,\n",
       "  'timestamp': '2023-09-10 8:57:00'},\n",
       " {'animal_id': 'D',\n",
       "  'activity_duration': 27,\n",
       "  'proximity_to_others': 1.782092401693733,\n",
       "  'noise_levels': 36.90516053788532,\n",
       "  'timestamp': '2023-09-21 20:33:00'},\n",
       " {'animal_id': 'E',\n",
       "  'activity_duration': 92,\n",
       "  'proximity_to_others': 26.369693559792605,\n",
       "  'noise_levels': 108.70548978656957,\n",
       "  'timestamp': '2023-09-5 10:42:00'},\n",
       " {'animal_id': 'E',\n",
       "  'activity_duration': 60,\n",
       "  'proximity_to_others': 35.56466573407889,\n",
       "  'noise_levels': 100.54961800180205,\n",
       "  'timestamp': '2023-09-22 8:15:00'},\n",
       " {'animal_id': 'B',\n",
       "  'activity_duration': 83,\n",
       "  'proximity_to_others': 1.1623419161765898,\n",
       "  'noise_levels': 32.79652123177087,\n",
       "  'timestamp': '2023-09-21 9:40:00'},\n",
       " {'animal_id': 'B',\n",
       "  'activity_duration': 89,\n",
       "  'proximity_to_others': 22.0112707534161,\n",
       "  'noise_levels': 48.5336595161324,\n",
       "  'timestamp': '2023-09-1 4:12:00'},\n",
       " {'animal_id': 'A',\n",
       "  'activity_duration': 76,\n",
       "  'proximity_to_others': 11.763881062901891,\n",
       "  'noise_levels': 79.96683442884806,\n",
       "  'timestamp': '2023-09-1 22:13:00'},\n",
       " {'animal_id': 'B',\n",
       "  'activity_duration': 67,\n",
       "  'proximity_to_others': 31.162462510727718,\n",
       "  'noise_levels': 39.73034037980946,\n",
       "  'timestamp': '2023-09-5 23:4:00'}]"
      ]
     },
     "execution_count": 60,
     "metadata": {},
     "output_type": "execute_result"
    }
   ],
   "source": [
    "simulated_dataset"
   ]
  },
  {
   "cell_type": "code",
   "execution_count": 61,
   "id": "5c315bc1",
   "metadata": {},
   "outputs": [],
   "source": [
    "import csv\n",
    "\n",
    "# Saving the simulated dataset to CSV\n",
    "def save_to_csv(data, filename=\"simulated_dataset.csv\"):\n",
    "    \"\"\"Save a list of dictionaries to a CSV file.\"\"\"\n",
    "    keys = data[0].keys()\n",
    "    with open(filename, 'w', newline='') as output_file:\n",
    "        dict_writer = csv.DictWriter(output_file, keys)\n",
    "        dict_writer.writeheader()\n",
    "        dict_writer.writerows(data)\n",
    "\n",
    "save_to_csv(simulated_dataset)"
   ]
  },
  {
   "cell_type": "code",
   "execution_count": 65,
   "id": "132b26e7",
   "metadata": {},
   "outputs": [
    {
     "name": "stdout",
     "output_type": "stream",
     "text": [
      "   activity_duration  proximity_to_others  noise_levels\n",
      "0           0.822163            -1.677644     -0.936783\n",
      "1           1.410411             1.342567      1.364425\n",
      "2          -1.219403             1.573620     -0.923089\n",
      "3          -1.115595             0.780919     -0.188326\n",
      "4          -1.427020             0.358955      0.210222\n"
     ]
    }
   ],
   "source": [
    "import pandas as pd\n",
    "\n",
    "def extract_and_preprocess(filename):\n",
    "    \"\"\"Extracts features from the dataset and preprocesses them.\"\"\"\n",
    "    data = pd.read_csv(filename)\n",
    "    \n",
    "    # Extract features\n",
    "    features = data[['activity_duration', 'proximity_to_others', 'noise_levels']]\n",
    "    \n",
    "    # Preprocess the data (for demonstration purposes, we're just normalizing it here)\n",
    "    features_normalized = (features - features.mean()) / features.std()\n",
    "    \n",
    "    # Additional processing can be added as needed\n",
    "    \n",
    "    return features_normalized\n",
    "\n",
    "# Using the function on the saved CSV data\n",
    "processed_data = extract_and_preprocess(\"simulated_dataset.csv\")\n",
    "print(processed_data.head())"
   ]
  },
  {
   "cell_type": "code",
   "execution_count": null,
   "id": "e25b2288",
   "metadata": {},
   "outputs": [],
   "source": []
  }
 ],
 "metadata": {
  "kernelspec": {
   "display_name": "Python 3 (ipykernel)",
   "language": "python",
   "name": "python3"
  },
  "language_info": {
   "codemirror_mode": {
    "name": "ipython",
    "version": 3
   },
   "file_extension": ".py",
   "mimetype": "text/x-python",
   "name": "python",
   "nbconvert_exporter": "python",
   "pygments_lexer": "ipython3",
   "version": "3.11.7"
  }
 },
 "nbformat": 4,
 "nbformat_minor": 5
}
