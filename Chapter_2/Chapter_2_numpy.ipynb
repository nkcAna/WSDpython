{
 "cells": [
  {
   "cell_type": "markdown",
   "id": "3b663cbd",
   "metadata": {},
   "source": [
    "# NumPy: Numerical Python\n",
    "\n",
    "NumPy, short for Numerical Python, is a fundamental library for numerical computations in Python. It provides support for arrays, matrices, and an assortment of mathematical functions to operate on these data structures. This library is a cornerstone in scientific computing, offering powerful tools for tasks such as linear algebra, calculus, and random number generation.\n"
   ]
  },
  {
   "cell_type": "markdown",
   "id": "0aba8d35",
   "metadata": {},
   "source": [
    "## Array Creation\n",
    "\n",
    "**Definition:** An array is a data structure that stores values of same data type. In Python, this is the main difference between arrays and lists.\n",
    "\n",
    "NumPy's core component is the **ndarray**, an n-dimensional array that provides fast and efficient operations on large datasets."
   ]
  },
  {
   "cell_type": "markdown",
   "id": "fe8d4b43",
   "metadata": {},
   "source": [
    " - **Using 'np.array()'**\n",
    " This is the most basic method to create an array in NumPy."
   ]
  },
  {
   "cell_type": "code",
   "execution_count": 1,
   "id": "7c7b44d6",
   "metadata": {},
   "outputs": [],
   "source": [
    "# First we must import the library 'numpy'\n",
    "import numpy as np\n",
    "\n",
    "# Create a 1-dimensional array \n",
    "arr_1d = np.array([1, 2, 3, 4, 5])  # Output : [1 2 3 4 5]\n",
    "\n",
    "# Create a 2-dimensional array\n",
    "arr_2d = np.array([[1, 2, 3], [4, 5, 6]])  \n",
    "# Output : [[1 2 3]\n",
    "#          [4 5 6]]"
   ]
  },
  {
   "cell_type": "markdown",
   "id": "be97fad9",
   "metadata": {},
   "source": [
    "## Arrays with Specific Values or Patterns"
   ]
  },
  {
   "cell_type": "markdown",
   "id": "140d5dd8",
   "metadata": {},
   "source": [
    " - **Using 'np.zeros()' and 'np.ones()'**\n",
    " To create arrays filled with zeros or ones, respectively."
   ]
  },
  {
   "cell_type": "code",
   "execution_count": 2,
   "id": "0600d586",
   "metadata": {},
   "outputs": [
    {
     "data": {
      "text/plain": [
       "array([[0., 0., 0.],\n",
       "       [0., 0., 0.]])"
      ]
     },
     "execution_count": 2,
     "metadata": {},
     "output_type": "execute_result"
    }
   ],
   "source": [
    "# Create an array of zeros\n",
    "zeros = np.zeros((2, 3))  # 2 rows, 3 columns\n",
    "zeros"
   ]
  },
  {
   "cell_type": "code",
   "execution_count": 3,
   "id": "446fb89a",
   "metadata": {},
   "outputs": [
    {
     "data": {
      "text/plain": [
       "array([[1., 1., 1.],\n",
       "       [1., 1., 1.],\n",
       "       [1., 1., 1.]])"
      ]
     },
     "execution_count": 3,
     "metadata": {},
     "output_type": "execute_result"
    }
   ],
   "source": [
    "# Create an array of ones\n",
    "ones = np.ones((3, 3))    # 3 rows, 3 columns\n",
    "ones"
   ]
  },
  {
   "cell_type": "markdown",
   "id": "41888cea",
   "metadata": {},
   "source": [
    "- **Using 'np.empty()'**\n",
    "\n",
    "The **np.empty()** function is used to create a new array without initializing the entries. It can be faster than **np.zeros()** or **np.ones()** because it doesn't take the time to set all values to zero or one – it just allocates the memory. The downside is that the initial content is random and may vary. You generally use **np.empty()** when you know you will be overwriting all the entries soon after creation.\n",
    "\n",
    "**Parameters:**\n",
    "- shape: Shape of the empty array.\n",
    "- dtype: Desired output data type. Default is numpy.float64.\n",
    "- order: Whether to store multi-dimensional data in row-major (C-style) or column-major (Fortran-style) order in memory. Default is 'C'."
   ]
  },
  {
   "cell_type": "code",
   "execution_count": 4,
   "id": "d987332b",
   "metadata": {},
   "outputs": [
    {
     "name": "stdout",
     "output_type": "stream",
     "text": [
      "[[0. 0. 0.]\n",
      " [0. 0. 0.]]\n"
     ]
    }
   ],
   "source": [
    "# Create a 2x3 empty array \n",
    "empty_array = np.empty((2, 3))\n",
    "print(empty_array)  # The output values will vary as they are uninitialized"
   ]
  },
  {
   "cell_type": "markdown",
   "id": "40da3eba",
   "metadata": {},
   "source": [
    " - **Using 'np.arange()'**\n",
    "This function returns evenly spaced values within a given interval."
   ]
  },
  {
   "cell_type": "code",
   "execution_count": 5,
   "id": "66131801",
   "metadata": {},
   "outputs": [
    {
     "data": {
      "text/plain": [
       "array([0, 2, 4, 6, 8])"
      ]
     },
     "execution_count": 5,
     "metadata": {},
     "output_type": "execute_result"
    }
   ],
   "source": [
    "# Create a range of values\n",
    "range_arr = np.arange(0, 10, 2) # start, stop, step\n",
    "range_arr"
   ]
  },
  {
   "cell_type": "markdown",
   "id": "62a209f6",
   "metadata": {},
   "source": [
    " - **Using 'np.linspace()'**\n",
    "Return evenly spaced numbers over a specified range."
   ]
  },
  {
   "cell_type": "code",
   "execution_count": 6,
   "id": "42db500a",
   "metadata": {},
   "outputs": [
    {
     "data": {
      "text/plain": [
       "array([ 0.        ,  1.11111111,  2.22222222,  3.33333333,  4.44444444,\n",
       "        5.55555556,  6.66666667,  7.77777778,  8.88888889, 10.        ])"
      ]
     },
     "execution_count": 6,
     "metadata": {},
     "output_type": "execute_result"
    }
   ],
   "source": [
    "# Create evenly spaced values\n",
    "linspace_arr = np.linspace(0, 10, 10) # start, stop, number of points\n",
    "linspace_arr"
   ]
  },
  {
   "cell_type": "markdown",
   "id": "2a88d143",
   "metadata": {},
   "source": [
    " - **Using 'np.eye()' and 'np.identity()**\n",
    "These functions are used to create identity matrices."
   ]
  },
  {
   "cell_type": "code",
   "execution_count": 7,
   "id": "de9d72d2",
   "metadata": {},
   "outputs": [
    {
     "data": {
      "text/plain": [
       "array([[1., 0., 0.],\n",
       "       [0., 1., 0.],\n",
       "       [0., 0., 1.]])"
      ]
     },
     "execution_count": 7,
     "metadata": {},
     "output_type": "execute_result"
    }
   ],
   "source": [
    "# Create an identity matrix\n",
    "identity = np.eye(3)\n",
    "identity"
   ]
  },
  {
   "cell_type": "code",
   "execution_count": 8,
   "id": "7333b061",
   "metadata": {},
   "outputs": [
    {
     "data": {
      "text/plain": [
       "array([[1., 0., 0., 0.],\n",
       "       [0., 1., 0., 0.],\n",
       "       [0., 0., 1., 0.],\n",
       "       [0., 0., 0., 1.]])"
      ]
     },
     "execution_count": 8,
     "metadata": {},
     "output_type": "execute_result"
    }
   ],
   "source": [
    "identity = np.identity(4)\n",
    "identity"
   ]
  },
  {
   "cell_type": "markdown",
   "id": "8add2069",
   "metadata": {},
   "source": [
    " - **Using 'np.full()'**\n",
    "creates an array filled with a specified value"
   ]
  },
  {
   "cell_type": "code",
   "execution_count": 9,
   "id": "f95219bb",
   "metadata": {},
   "outputs": [
    {
     "data": {
      "text/plain": [
       "array([[4, 4, 4],\n",
       "       [4, 4, 4],\n",
       "       [4, 4, 4]])"
      ]
     },
     "execution_count": 9,
     "metadata": {},
     "output_type": "execute_result"
    }
   ],
   "source": [
    "np.full((3,3), 4)"
   ]
  },
  {
   "cell_type": "markdown",
   "id": "68b96e98",
   "metadata": {},
   "source": [
    " - **Using 'np.random.random()''**\n",
    "generates an array of random floats in the half-open interval [0.0, 1.0)"
   ]
  },
  {
   "cell_type": "code",
   "execution_count": 10,
   "id": "2b357c71",
   "metadata": {},
   "outputs": [
    {
     "data": {
      "text/plain": [
       "array([[0.96979643, 0.13631367, 0.09289464],\n",
       "       [0.53835316, 0.1641139 , 0.47259163],\n",
       "       [0.42332518, 0.40290816, 0.69991264]])"
      ]
     },
     "execution_count": 10,
     "metadata": {},
     "output_type": "execute_result"
    }
   ],
   "source": [
    "np.random.random((3,3))"
   ]
  },
  {
   "cell_type": "markdown",
   "id": "30a0c4af",
   "metadata": {},
   "source": [
    "## Array Attributes\n"
   ]
  },
  {
   "cell_type": "markdown",
   "id": "5f04ba7b",
   "metadata": {},
   "source": [
    "- **Shape of array using ndarray.shape**\n",
    "This returns a tuple representing the dimensionality of the array.\n"
   ]
  },
  {
   "cell_type": "code",
   "execution_count": 11,
   "id": "7f991940",
   "metadata": {},
   "outputs": [
    {
     "name": "stdout",
     "output_type": "stream",
     "text": [
      "(2, 5)\n"
     ]
    }
   ],
   "source": [
    "matrix = np.array([[1, 2, 3, 4, 5],[6, 7, 8, 9, 10]])\n",
    "print(matrix.shape)"
   ]
  },
  {
   "cell_type": "markdown",
   "id": "50077718",
   "metadata": {},
   "source": [
    "- **Size of array using ndarray.size**\n",
    "This returns the total number of elements in the array. "
   ]
  },
  {
   "cell_type": "code",
   "execution_count": 12,
   "id": "ab78ea6c",
   "metadata": {},
   "outputs": [
    {
     "name": "stdout",
     "output_type": "stream",
     "text": [
      "10\n"
     ]
    }
   ],
   "source": [
    "print(matrix.size)"
   ]
  },
  {
   "cell_type": "markdown",
   "id": "e2a3c5c9",
   "metadata": {},
   "source": [
    "- **Data type of array using ndarray.dtype**\n",
    "Every element in a NumPy array has the same data type. The **'dtype'** attribute returns this type."
   ]
  },
  {
   "cell_type": "code",
   "execution_count": 13,
   "id": "ba43029a",
   "metadata": {},
   "outputs": [
    {
     "name": "stdout",
     "output_type": "stream",
     "text": [
      "int32\n"
     ]
    }
   ],
   "source": [
    "print(matrix.dtype)"
   ]
  },
  {
   "cell_type": "markdown",
   "id": "ae228097",
   "metadata": {},
   "source": [
    "- **Number of dimensions using ndarray.ndim**\n",
    "Returns the number of array dimensions."
   ]
  },
  {
   "cell_type": "code",
   "execution_count": 14,
   "id": "2a2a45c3",
   "metadata": {},
   "outputs": [
    {
     "name": "stdout",
     "output_type": "stream",
     "text": [
      "2\n"
     ]
    }
   ],
   "source": [
    "print(matrix.ndim)"
   ]
  },
  {
   "cell_type": "markdown",
   "id": "1d52cfa9",
   "metadata": {},
   "source": [
    "- **Item Size using ndarray.itemsize**\n",
    "Returns the size (in bytes) of each array element."
   ]
  },
  {
   "cell_type": "code",
   "execution_count": 15,
   "id": "af91d111",
   "metadata": {},
   "outputs": [
    {
     "name": "stdout",
     "output_type": "stream",
     "text": [
      "int32\n",
      "4\n"
     ]
    }
   ],
   "source": [
    "print(matrix.dtype)\n",
    "print(matrix.itemsize)"
   ]
  },
  {
   "cell_type": "code",
   "execution_count": 16,
   "id": "a19e1864",
   "metadata": {},
   "outputs": [
    {
     "name": "stdout",
     "output_type": "stream",
     "text": [
      "float64\n",
      "8\n"
     ]
    }
   ],
   "source": [
    "# Creating an array\n",
    "temperatures = np.array([22.5, 23.8, 20.1, 25.4])\n",
    "print(temperatures.dtype)\n",
    "print(temperatures.itemsize)"
   ]
  },
  {
   "cell_type": "markdown",
   "id": "9cf20c0f",
   "metadata": {},
   "source": [
    "## Numpy Array Data Type \n"
   ]
  },
  {
   "cell_type": "code",
   "execution_count": 17,
   "id": "8b0481b6",
   "metadata": {},
   "outputs": [
    {
     "name": "stdout",
     "output_type": "stream",
     "text": [
      "int16\n",
      "float32\n",
      "complex128\n",
      "bool\n",
      "|S3\n",
      "<U3\n",
      "object\n"
     ]
    }
   ],
   "source": [
    "print(np.array([1, 2, 3], dtype='int16').dtype)\n",
    "print(np.array([1.5, 2.7, 3.1], dtype='float32').dtype)\n",
    "print(np.array([1+2j, 2+3j], dtype='complex128').dtype)\n",
    "print(np.array([True, False, True], dtype='bool').dtype)\n",
    "print(np.array(['a', 'ab', 'abc'], dtype='string_').dtype) #all elements of the array will use the maximum length\n",
    "print(np.array(['a', 'ab', 'abc'], dtype='unicode_').dtype) #all elements of the array will use the maximum length\n",
    "print(np.array([1, 'a', (2, 3)], dtype='object').dtype)"
   ]
  },
  {
   "cell_type": "code",
   "execution_count": 18,
   "id": "af98f8d1",
   "metadata": {},
   "outputs": [
    {
     "data": {
      "text/plain": [
       "array(['2021-01-01', '2021-02-01'], dtype='datetime64[D]')"
      ]
     },
     "execution_count": 18,
     "metadata": {},
     "output_type": "execute_result"
    }
   ],
   "source": [
    "# Represents a date or timestamp to nanosecond precision.\n",
    "np.array(['2021-01-01', '2021-02-01'], dtype='datetime64')"
   ]
  },
  {
   "cell_type": "code",
   "execution_count": 19,
   "id": "21539819",
   "metadata": {},
   "outputs": [
    {
     "data": {
      "text/plain": [
       "array([1, 2], dtype='timedelta64[D]')"
      ]
     },
     "execution_count": 19,
     "metadata": {},
     "output_type": "execute_result"
    }
   ],
   "source": [
    "# Represents the difference between two dates or times.\n",
    "np.array([1, 2], dtype='timedelta64[D]')\n"
   ]
  },
  {
   "cell_type": "markdown",
   "id": "c946ae23",
   "metadata": {},
   "source": [
    "## Changing Array Data Type ('astype()')\n",
    "\n",
    "Sometimes, for efficient memory storage or specific computational reasons, you may want to change the data type of the array.\n"
   ]
  },
  {
   "cell_type": "code",
   "execution_count": 20,
   "id": "96e3cc26",
   "metadata": {},
   "outputs": [
    {
     "name": "stdout",
     "output_type": "stream",
     "text": [
      "[22 23 20 25]\n",
      "float64\n"
     ]
    }
   ],
   "source": [
    "int_temperatures = temperatures.astype(int)\n",
    "print(int_temperatures)\n",
    "print(temperatures.dtype)\n"
   ]
  },
  {
   "cell_type": "markdown",
   "id": "ed51a8ee",
   "metadata": {},
   "source": [
    "With these foundational concepts and techniques for array creation and understanding their properties, you're equipped to efficiently handle and analyze large datasets, which is especially crucial in the field of farm animal behavior analysis. Knowing how to tailor your data structures can greatly improve computational performance."
   ]
  },
  {
   "cell_type": "markdown",
   "id": "423f7112",
   "metadata": {},
   "source": [
    "## Array Manipulation "
   ]
  },
  {
   "cell_type": "markdown",
   "id": "c62a06ae",
   "metadata": {},
   "source": [
    "### 1.Reshaping Arrays \n",
    "- **Using 'reshape()'**\n",
    "This allows arrays to be transformed to a new shape without changing their data."
   ]
  },
  {
   "cell_type": "code",
   "execution_count": 21,
   "id": "46932d01",
   "metadata": {},
   "outputs": [
    {
     "name": "stdout",
     "output_type": "stream",
     "text": [
      "[[1 2 3]\n",
      " [4 5 6]]\n"
     ]
    }
   ],
   "source": [
    "data = np.array([1, 2, 3, 4, 5, 6])\n",
    "reshaped_data = data.reshape(2, 3)\n",
    "print(reshaped_data)"
   ]
  },
  {
   "cell_type": "markdown",
   "id": "c98e1958",
   "metadata": {},
   "source": [
    "- **Flattening Arrays with 'ravel()'**\n",
    "Convert multi-dimensional arrays into 1D. "
   ]
  },
  {
   "cell_type": "code",
   "execution_count": 22,
   "id": "d53bd685",
   "metadata": {},
   "outputs": [
    {
     "name": "stdout",
     "output_type": "stream",
     "text": [
      "[1 2 3 4 5 6]\n"
     ]
    }
   ],
   "source": [
    "flattened_data = reshaped_data.ravel()\n",
    "print(flattened_data) "
   ]
  },
  {
   "cell_type": "markdown",
   "id": "0f6712eb",
   "metadata": {},
   "source": [
    " ### 2.Transposing Arrays \n",
    "- **Using 'transpose()' or 'T'**\n",
    "Switches the row and column indices of the matrix."
   ]
  },
  {
   "cell_type": "code",
   "execution_count": 23,
   "id": "5c60d742",
   "metadata": {},
   "outputs": [
    {
     "name": "stdout",
     "output_type": "stream",
     "text": [
      "[[1 2 3]\n",
      " [4 5 6]]\n",
      "The shape of data is (2, 3)\n"
     ]
    }
   ],
   "source": [
    "# Create a 2x3 array\n",
    "data = np.array([[1, 2, 3],[4, 5, 6]])\n",
    "print(data)\n",
    "print(f\"The shape of data is {data.shape}\")\n"
   ]
  },
  {
   "cell_type": "code",
   "execution_count": 24,
   "id": "917ab632",
   "metadata": {},
   "outputs": [
    {
     "name": "stdout",
     "output_type": "stream",
     "text": [
      "[[1 4]\n",
      " [2 5]\n",
      " [3 6]]\n",
      "The shape of transposed_data is (3, 2)\n"
     ]
    }
   ],
   "source": [
    "# Transpose the array using 'T'\n",
    "transposed_data = data.T\n",
    "print(transposed_data)\n",
    "print(f\"The shape of transposed_data is {transposed_data.shape}\")\n"
   ]
  },
  {
   "cell_type": "markdown",
   "id": "3a2b0c7a",
   "metadata": {},
   "source": [
    "### 3. Array Stacking \n",
    "\n",
    "- **Verical stacking Using 'vstack()'**\n",
    "- **Horizontal Stacking with 'hstack()'**"
   ]
  },
  {
   "cell_type": "code",
   "execution_count": 25,
   "id": "c0a237f6",
   "metadata": {},
   "outputs": [
    {
     "name": "stdout",
     "output_type": "stream",
     "text": [
      "[[1 2 3]\n",
      " [4 5 6]]\n"
     ]
    }
   ],
   "source": [
    "# Vertical stack\n",
    "array1 = np.array([1, 2, 3])\n",
    "array2 = np.array([4, 5, 6])\n",
    "stacked_array = np.vstack((array1, array2))\n",
    "print(stacked_array)"
   ]
  },
  {
   "cell_type": "code",
   "execution_count": 26,
   "id": "e7c5a083",
   "metadata": {},
   "outputs": [
    {
     "name": "stdout",
     "output_type": "stream",
     "text": [
      "[1 2 3 4 5 6]\n"
     ]
    }
   ],
   "source": [
    "# Horizontal stack\n",
    "horizontal_stacked = np.hstack((array1, array2))\n",
    "print(horizontal_stacked)  "
   ]
  },
  {
   "cell_type": "markdown",
   "id": "237b2b4b",
   "metadata": {},
   "source": [
    "### 4. Array Splitting \n",
    "\n",
    "-**Using 'np.split()'**\n",
    "\n",
    "The **np.split()** function divides an array into multiple sub-arrays. The axis along which to split is specified as an argument (default is **axis=0**).\n",
    "\n",
    "**Parameters:**\n",
    "- ary: Array to be divided.\n",
    "- indices_or_sections: If it's an integer, N, the array will be divided into N equal arrays (if possible). If it's a 1-D array of sorted integers, it defines the indices at which splitting occurs.\n",
    "- axis: Axis along which to split; default is 0."
   ]
  },
  {
   "cell_type": "code",
   "execution_count": 27,
   "id": "976fa6f8",
   "metadata": {},
   "outputs": [
    {
     "name": "stdout",
     "output_type": "stream",
     "text": [
      "[array([1, 2]), array([3, 4]), array([5, 6])]\n",
      "[array([[1, 2, 3],\n",
      "       [4, 5, 6]]), array([[ 7,  8,  9],\n",
      "       [10, 11, 12]])]\n",
      "[array([[ 1],\n",
      "       [ 4],\n",
      "       [ 7],\n",
      "       [10]]), array([[ 2],\n",
      "       [ 5],\n",
      "       [ 8],\n",
      "       [11]]), array([[ 3],\n",
      "       [ 6],\n",
      "       [ 9],\n",
      "       [12]])]\n"
     ]
    }
   ],
   "source": [
    "import numpy as np\n",
    "\n",
    "# 1-D splitting\n",
    "arr_1d = np.array([1, 2, 3, 4, 5, 6])\n",
    "split_arr_1d = np.split(arr_1d, 3)\n",
    "print(split_arr_1d)  # [array([1, 2]), array([3, 4]), array([5, 6])]\n",
    "\n",
    "# 2-D splitting along the first axis (similar to vsplit)\n",
    "arr_2d = np.array([[1, 2, 3], [4, 5, 6], [7, 8, 9], [10, 11, 12]])\n",
    "split_arr_2d = np.split(arr_2d, 2)\n",
    "print(split_arr_2d)\n",
    "# [array([[1, 2, 3], [4, 5, 6]]), array([[ 7,  8,  9], [10, 11, 12]])]\n",
    "\n",
    "# 2-D splitting along the second axis (similar to hsplit)\n",
    "split_arr_2d_axis1 = np.split(arr_2d, 3, axis=1)\n",
    "print(split_arr_2d_axis1)\n",
    "# [array([[ 1], [ 4], [ 7], [10]]), array([[ 2], [ 5], [ 8], [11]]), array([[ 3], [ 6], [ 9], [12]])]"
   ]
  },
  {
   "cell_type": "markdown",
   "id": "1d9f75de",
   "metadata": {},
   "source": [
    "- **Using 'hsplit()'**\n",
    "Split an array into multiple sub-arrays horizontally (column-wise).\n",
    "- **Using 'vsplit()'**\n",
    "Split an array into multiple sub-arrays vertically (row-wise)."
   ]
  },
  {
   "cell_type": "code",
   "execution_count": 28,
   "id": "6a7946e8",
   "metadata": {},
   "outputs": [
    {
     "name": "stdout",
     "output_type": "stream",
     "text": [
      "[array([[1],\n",
      "       [4]]), array([[2],\n",
      "       [5]]), array([[3],\n",
      "       [6]])]\n"
     ]
    }
   ],
   "source": [
    "# horizontal split\n",
    "split_data = np.hsplit(reshaped_data, 3)\n",
    "print(split_data)"
   ]
  },
  {
   "cell_type": "code",
   "execution_count": 29,
   "id": "77c31ef4",
   "metadata": {},
   "outputs": [
    {
     "name": "stdout",
     "output_type": "stream",
     "text": [
      "[array([[1, 2, 3]]), array([[4, 5, 6]]), array([[7, 8, 9]])]\n"
     ]
    }
   ],
   "source": [
    "# Vertical split split\n",
    "array3 = np.array([7, 8, 9])\n",
    "big_array = np.vstack((array1, array2, array3))\n",
    "split_data_vertical = np.vsplit(big_array, 3)\n",
    "print(split_data_vertical)"
   ]
  },
  {
   "cell_type": "markdown",
   "id": "058a645c",
   "metadata": {},
   "source": [
    "**'np.split()'** offers more flexibility compared to **'hsplit()'** and **'vsplit()'** since it allows specifying the axis of splitting. For higher-dimensional arrays, **'np.split()'** becomes particularly handy."
   ]
  },
  {
   "cell_type": "markdown",
   "id": "dfc801d2",
   "metadata": {},
   "source": [
    "### 5. Changing Array Dimensions\n",
    "\n",
    "- **Using 'newaxis**\n",
    "You can increase the dimension of the existing array, using np.newaxis."
   ]
  },
  {
   "cell_type": "code",
   "execution_count": 30,
   "id": "2a83cbe6",
   "metadata": {},
   "outputs": [
    {
     "name": "stdout",
     "output_type": "stream",
     "text": [
      "[[1 2 3 4 5]]\n",
      "[[1]\n",
      " [2]\n",
      " [3]\n",
      " [4]\n",
      " [5]]\n"
     ]
    }
   ],
   "source": [
    "data_1D = np.array([1, 2, 3, 4, 5])\n",
    "row_vector = data_1D[np.newaxis, :]\n",
    "column_vector = data_1D[:, np.newaxis]\n",
    "print(row_vector)       # [[1 2 3 4 5]]\n",
    "print(column_vector)"
   ]
  },
  {
   "cell_type": "code",
   "execution_count": 31,
   "id": "53c38858",
   "metadata": {},
   "outputs": [
    {
     "name": "stdout",
     "output_type": "stream",
     "text": [
      "[5 7 9]\n",
      "[-3 -3 -3]\n",
      "[ 4 10 18]\n",
      "[0.25 0.4  0.5 ]\n"
     ]
    }
   ],
   "source": [
    "a = np.array([1, 2, 3])\n",
    "b = np.array([4, 5, 6])\n",
    "\n",
    "# Basic Operations\n",
    "print(a + b)\n",
    "print(a - b)\n",
    "print(a * b)\n",
    "print(a / b)\n",
    "\n",
    "# Dot Product\n",
    "dot_product = np.dot(a, b)\n",
    "\n"
   ]
  },
  {
   "cell_type": "markdown",
   "id": "cd3fe884",
   "metadata": {},
   "source": [
    "## Array Indexing and Slicing\n"
   ]
  },
  {
   "cell_type": "code",
   "execution_count": 32,
   "id": "8b159833",
   "metadata": {},
   "outputs": [
    {
     "name": "stdout",
     "output_type": "stream",
     "text": [
      "1\n",
      "[2 3 4]\n",
      "2\n",
      "[ 2  5  8 11]\n"
     ]
    }
   ],
   "source": [
    "print(arr_1d[0])       # Indexing\n",
    "print(arr_1d[1:4])     # Slicing\n",
    "\n",
    "print(arr_2d[0, 1])    # Indexing in 2D array\n",
    "print(arr_2d[:, 1])    # Slicing columns"
   ]
  },
  {
   "cell_type": "markdown",
   "id": "61b9431d",
   "metadata": {},
   "source": [
    "## Concatenate Arrays"
   ]
  },
  {
   "cell_type": "code",
   "execution_count": 33,
   "id": "8b79bb31",
   "metadata": {},
   "outputs": [
    {
     "name": "stdout",
     "output_type": "stream",
     "text": [
      "[1 2 3 4 5 6 7 8 9]\n"
     ]
    }
   ],
   "source": [
    "a = np.array([1, 2, 3])\n",
    "b = np.array([4, 5, 6])\n",
    "c = np.array([7, 8, 9])\n",
    "\n",
    "# Concatenate along an existing axis\n",
    "concatenated = np.concatenate((a, b, c))\n",
    "print(concatenated)"
   ]
  },
  {
   "cell_type": "markdown",
   "id": "0860216b",
   "metadata": {},
   "source": [
    "## Mathematical and Statistical Operations\n",
    "NumPy is renowned for its mathematical and statistical functions. "
   ]
  },
  {
   "cell_type": "markdown",
   "id": "f8c1aa57",
   "metadata": {},
   "source": [
    "**Arithmetic Operations:** You can perform element-wise arithmetic operations on arrays."
   ]
  },
  {
   "cell_type": "code",
   "execution_count": 34,
   "id": "f5920394",
   "metadata": {},
   "outputs": [
    {
     "name": "stdout",
     "output_type": "stream",
     "text": [
      "[5 7 9]\n",
      "[-3 -3 -3]\n",
      "[ 4 10 18]\n",
      "[0.25 0.4  0.5 ]\n"
     ]
    }
   ],
   "source": [
    "a = np.array([1, 2, 3])\n",
    "b = np.array([4, 5, 6])\n",
    "\n",
    "print(a + b)  # [5 7 9]\n",
    "print(a - b)  # [-3 -3 -3]\n",
    "print(a * b)  # [4 10 18]\n",
    "print(a / b)  # [0.25 0.4  0.5]"
   ]
  },
  {
   "cell_type": "markdown",
   "id": "dee31aa7",
   "metadata": {},
   "source": [
    "***Scalar Operations:** Combine scalars with arrays. "
   ]
  },
  {
   "cell_type": "code",
   "execution_count": 35,
   "id": "391fdd90",
   "metadata": {},
   "outputs": [
    {
     "name": "stdout",
     "output_type": "stream",
     "text": [
      "[3 4 5]\n",
      "[2 4 6]\n"
     ]
    }
   ],
   "source": [
    "c = 2\n",
    "\n",
    "print(a + c)  # [3 4 5]\n",
    "print(a * c)  # [2 4 6]"
   ]
  },
  {
   "cell_type": "markdown",
   "id": "9cf80280",
   "metadata": {},
   "source": [
    "**Universal functions:** Element-wise operations on arrays. Some popular ufuncs include **sqrt**, **exp**, **add**, etc."
   ]
  },
  {
   "cell_type": "code",
   "execution_count": 36,
   "id": "0f1ca5bd",
   "metadata": {},
   "outputs": [
    {
     "name": "stdout",
     "output_type": "stream",
     "text": [
      "[5 7 9]\n",
      "[-3 -3 -3]\n",
      "[0.25 0.4  0.5 ]\n",
      "[ 4 10 18]\n",
      "[0.84147098 0.90929743 0.14112001]\n",
      "[ 0.54030231 -0.41614684 -0.9899925 ]\n",
      "[ 2.71828183  7.3890561  20.08553692]\n",
      "[0.         0.69314718 1.09861229]\n",
      "[1.         1.41421356 1.73205081]\n",
      "32\n"
     ]
    }
   ],
   "source": [
    "a = np.array([1, 2, 3])\n",
    "b = np.array([4, 5, 6])\n",
    "c = np.array([7, 8, 9])\n",
    "\n",
    "print(np.add(a,b))\n",
    "print(np.subtract(a,b)) \n",
    "print(np.divide(a,b))\n",
    "print(np.multiply(a,b))\n",
    "\n",
    "print(np.sin(a))\n",
    "print(np.cos(a))\n",
    "print(np.exp(a))\n",
    "print(np.log(a))\n",
    "print(np.sqrt(a))\n",
    "\n",
    "print(np.dot(a,b))"
   ]
  },
  {
   "cell_type": "markdown",
   "id": "46f50851",
   "metadata": {},
   "source": [
    "**Rounding:** Functions like **round**, **floor**, **ceil**."
   ]
  },
  {
   "cell_type": "code",
   "execution_count": 37,
   "id": "1bb1802c",
   "metadata": {},
   "outputs": [
    {
     "name": "stdout",
     "output_type": "stream",
     "text": [
      "[2. 2. 3.]\n",
      "[3. 2. 3.]\n",
      "[2. 1. 2.]\n"
     ]
    }
   ],
   "source": [
    "decimals = np.array([2.15, 1.55, 2.75])\n",
    "print(np.round(decimals)) \n",
    "print(np.ceil(decimals)) \n",
    "print(np.floor(decimals)) "
   ]
  },
  {
   "cell_type": "markdown",
   "id": "5c1b9f01",
   "metadata": {},
   "source": [
    "**Descriptive Statistics:** Simple functions provide a summary view of data. These include **min**, **max**, **sum**, **mean**, and **cumsum** (cumulative sum)."
   ]
  },
  {
   "cell_type": "code",
   "execution_count": 38,
   "id": "49f97bb4",
   "metadata": {},
   "outputs": [
    {
     "name": "stdout",
     "output_type": "stream",
     "text": [
      "[3. 4.]\n",
      "[1 2]\n",
      "[5 6]\n",
      "[ 9 12]\n",
      "[[ 1  2]\n",
      " [ 4  6]\n",
      " [ 9 12]]\n"
     ]
    }
   ],
   "source": [
    "data = np.array([[1, 2], [3, 4], [5, 6]])\n",
    "\n",
    "print(np.mean(data, axis=0)) \n",
    "print(np.min(data, axis=0)) \n",
    "print(np.max(data, axis=0)) \n",
    "print(np.sum(data, axis=0)) \n",
    "print(np.cumsum(data, axis=0)) "
   ]
  },
  {
   "cell_type": "markdown",
   "id": "fb10348c",
   "metadata": {},
   "source": [
    "**Order Statistics:** Beyond the **median**, NumPy also provides **percentile**, **quantile**, and **sort**."
   ]
  },
  {
   "cell_type": "code",
   "execution_count": 39,
   "id": "b7dfdca5",
   "metadata": {},
   "outputs": [
    {
     "name": "stdout",
     "output_type": "stream",
     "text": [
      "[1.25 3.25 5.25]\n",
      "3.5\n",
      "[1.5 3.5 5.5]\n",
      "[[1 2]\n",
      " [3 4]\n",
      " [5 6]]\n"
     ]
    }
   ],
   "source": [
    "print(np.percentile(data, 25, axis=1))\n",
    "print(np.quantile(data, .5))  # the second argument takes values from 0 to 1\n",
    "print(np.median(data, axis=1))\n",
    "print(np.sort(data))\n"
   ]
  },
  {
   "cell_type": "markdown",
   "id": "816d882d",
   "metadata": {},
   "source": [
    "**Dispersion Measures:** Evaluate data variability using **var** (variance) and **std** (standard deviation)."
   ]
  },
  {
   "cell_type": "code",
   "execution_count": 40,
   "id": "e6ed4059",
   "metadata": {},
   "outputs": [
    {
     "name": "stdout",
     "output_type": "stream",
     "text": [
      "3.5\n",
      "1.707825127659933\n"
     ]
    }
   ],
   "source": [
    "print(np.var(data, ddof=1))  # Variance with N-1 degrees of freedom\n",
    "print(np.std(data))"
   ]
  },
  {
   "cell_type": "markdown",
   "id": "879501f9",
   "metadata": {},
   "source": [
    "**Correlation:** Compute correlation coefficient.\n",
    "\n"
   ]
  },
  {
   "cell_type": "code",
   "execution_count": 41,
   "id": "94b4a03c",
   "metadata": {},
   "outputs": [
    {
     "name": "stdout",
     "output_type": "stream",
     "text": [
      "[[1. 1.]\n",
      " [1. 1.]]\n"
     ]
    }
   ],
   "source": [
    "x = np.array([1, 2, 3, 4])\n",
    "y = np.array([5, 6, 7, 8])\n",
    "print(np.corrcoef(x, y))  # 1.0 (Perfect correlation)"
   ]
  },
  {
   "cell_type": "code",
   "execution_count": 42,
   "id": "a789ca62",
   "metadata": {},
   "outputs": [
    {
     "name": "stdout",
     "output_type": "stream",
     "text": [
      "[[1. 1.]\n",
      " [1. 1.]]\n"
     ]
    }
   ],
   "source": [
    "y = np.array([2, 4, 6])\n",
    "print(np.corrcoef(a, y))  # 2D correlation matrix"
   ]
  },
  {
   "cell_type": "markdown",
   "id": "7201b80b",
   "metadata": {},
   "source": [
    "**Histograms**"
   ]
  },
  {
   "cell_type": "code",
   "execution_count": 43,
   "id": "7c5dbe0b",
   "metadata": {},
   "outputs": [
    {
     "data": {
      "image/png": "[encoded data removed]",
      "text/plain": [
       "<Figure size 640x480 with 1 Axes>"
      ]
     },
     "metadata": {},
     "output_type": "display_data"
    }
   ],
   "source": [
    "import matplotlib.pyplot as plt\n",
    "\n",
    "hist_data = np.array([1, 2, 2, 3, 3, 3, 4, 4, 5])\n",
    "hist, bins = np.histogram(hist_data, bins=[1, 2, 3, 4, 5, 6])\n",
    "plt.hist(hist_data, bins, histtype='bar', rwidth=0.8)\n",
    "plt.show()"
   ]
  },
  {
   "cell_type": "markdown",
   "id": "c442af2e",
   "metadata": {},
   "source": [
    "## Broadcasting \n",
    "\n",
    "Broadcasting in NumPy refers to how NumPy handles element-wise binary operations with input arrays of different shapes. Rather than replicating data physically in memory, NumPy uses broadcasting to virtually extend the smaller array so that it matches the shape of the larger one. This allows for efficient operations on arrays of non-matching shapes.\n",
    "\n",
    "Broadcasting can be powerful, but it's crucial to understand its rules and limitations to avoid unintentional mistakes.\n",
    "\n",
    "**Broadcasting Rules**\n",
    "\n",
    "- Dimension Compatibility: Starting from the trailing dimensions (rightmost), the dimensions of both arrays are compared. They are considered compatible when:\n",
    "\n",
    "  - They are equal, or\n",
    "  -  One of them is 1.\n",
    "- If the shapes of the two arrays are not the same length, the shape of the smaller array is padded with ones on its left side.\n",
    "\n",
    "- If the sizes of any dimension are different and neither is 1, a broadcasting error is raised.\n",
    "\n",
    "### Examples"
   ]
  },
  {
   "cell_type": "markdown",
   "id": "597515e9",
   "metadata": {},
   "source": [
    "**Scalar Broadcasting:** The simplest form of broadcasting is when an array and a scalar value are combined in an operation:"
   ]
  },
  {
   "cell_type": "code",
   "execution_count": 44,
   "id": "e4c26c8a",
   "metadata": {},
   "outputs": [
    {
     "name": "stdout",
     "output_type": "stream",
     "text": [
      "[2 4 6]\n"
     ]
    }
   ],
   "source": [
    "import numpy as np\n",
    "\n",
    "a = np.array([1, 2, 3])\n",
    "b = 2\n",
    "print(a * b)"
   ]
  },
  {
   "cell_type": "markdown",
   "id": "4c9033f3",
   "metadata": {},
   "source": [
    "**Broadcasting with 1D and 2D arrays:** "
   ]
  },
  {
   "cell_type": "code",
   "execution_count": 45,
   "id": "8a7ef115",
   "metadata": {},
   "outputs": [
    {
     "name": "stdout",
     "output_type": "stream",
     "text": [
      "[[2 2 4]\n",
      " [5 5 7]]\n"
     ]
    }
   ],
   "source": [
    "a = np.array([[1, 2, 3], [4, 5, 6]])\n",
    "b = np.array([1, 0, 1])\n",
    "print(a + b)"
   ]
  },
  {
   "cell_type": "markdown",
   "id": "13bd1564",
   "metadata": {},
   "source": [
    "**Shape Mismatch:** "
   ]
  },
  {
   "cell_type": "code",
   "execution_count": 46,
   "id": "1bd75df5",
   "metadata": {},
   "outputs": [
    {
     "ename": "ValueError",
     "evalue": "operands could not be broadcast together with shapes (3,) (2,) ",
     "output_type": "error",
     "traceback": [
      "\u001b[1;31m---------------------------------------------------------------------------\u001b[0m",
      "\u001b[1;31mValueError\u001b[0m                                Traceback (most recent call last)",
      "Cell \u001b[1;32mIn[46], line 4\u001b[0m\n\u001b[0;32m      2\u001b[0m b \u001b[38;5;241m=\u001b[39m np\u001b[38;5;241m.\u001b[39marray([\u001b[38;5;241m1\u001b[39m, \u001b[38;5;241m2\u001b[39m])\n\u001b[0;32m      3\u001b[0m \u001b[38;5;66;03m# This will raise an error as broadcasting is not possible\u001b[39;00m\n\u001b[1;32m----> 4\u001b[0m \u001b[38;5;28mprint\u001b[39m(a \u001b[38;5;241m+\u001b[39m b)\n",
      "\u001b[1;31mValueError\u001b[0m: operands could not be broadcast together with shapes (3,) (2,) "
     ]
    }
   ],
   "source": [
    "a = np.array([1, 2, 3])\n",
    "b = np.array([1, 2])\n",
    "# This will raise an error as broadcasting is not possible\n",
    "print(a + b) "
   ]
  },
  {
   "cell_type": "markdown",
   "id": "d25f614c",
   "metadata": {},
   "source": [
    "**General Broadcasting:** "
   ]
  },
  {
   "cell_type": "code",
   "execution_count": null,
   "id": "0689791e",
   "metadata": {},
   "outputs": [],
   "source": [
    "a = np.array([[1], [2], [3]])\n",
    "b = np.array([1, 2, 3])\n",
    "print(a + b)"
   ]
  },
  {
   "cell_type": "markdown",
   "id": "99792ad6",
   "metadata": {},
   "source": [
    "**Broadcasting** Over More Dimensions  "
   ]
  },
  {
   "cell_type": "code",
   "execution_count": null,
   "id": "a1d75af8",
   "metadata": {},
   "outputs": [],
   "source": [
    "a = np.random.rand(8, 1, 6, 1)\n",
    "b = np.random.rand(7, 1, 5)\n",
    "c = a * b  # Resulting shape will be (8, 7, 6, 5)\n",
    "print(c.shape), print(c)"
   ]
  },
  {
   "cell_type": "markdown",
   "id": "fb031ccb",
   "metadata": {},
   "source": [
    "**'np.broadcast_to'**: This function broadcasts an array to a new shape:"
   ]
  },
  {
   "cell_type": "code",
   "execution_count": null,
   "id": "9c6e6bb0",
   "metadata": {},
   "outputs": [],
   "source": [
    "a = np.array([1, 2, 3])\n",
    "b = np.broadcast_to(a, (3, 3))\n",
    "print(b)\n"
   ]
  },
  {
   "cell_type": "markdown",
   "id": "043ca9d0",
   "metadata": {},
   "source": [
    "## NumPy: Logical Operations \n",
    "NumPy offers a comprehensive set of logical operations that can be applied element-wise to arrays. These operations often find use in conditions, filtering data, or generating Boolean masks."
   ]
  },
  {
   "cell_type": "markdown",
   "id": "138f9f6b",
   "metadata": {},
   "source": [
    "**Logical AND ('np.logical_and)'** "
   ]
  },
  {
   "cell_type": "code",
   "execution_count": null,
   "id": "335f30ab",
   "metadata": {},
   "outputs": [],
   "source": [
    "a = np.array([True, False, True])\n",
    "b = np.array([False, False, True])\n",
    "print(np.logical_and(a, b))  "
   ]
  },
  {
   "cell_type": "code",
   "execution_count": null,
   "id": "2a3d9c5e",
   "metadata": {},
   "outputs": [],
   "source": [
    "# Alternative \n",
    "a & b"
   ]
  },
  {
   "cell_type": "markdown",
   "id": "9aa0a8b7",
   "metadata": {},
   "source": [
    "**Logical OR ('np.logical_or)'** "
   ]
  },
  {
   "cell_type": "code",
   "execution_count": null,
   "id": "f44a6dca",
   "metadata": {},
   "outputs": [],
   "source": [
    "a = np.array([True, False, True])\n",
    "b = np.array([False, False, True])\n",
    "print(np.logical_or(a, b)) "
   ]
  },
  {
   "cell_type": "code",
   "execution_count": null,
   "id": "c611be9e",
   "metadata": {},
   "outputs": [],
   "source": [
    "# Alternative \n",
    "a | b"
   ]
  },
  {
   "cell_type": "markdown",
   "id": "a1ca5828",
   "metadata": {},
   "source": [
    "**Logical NOT ('np.logical_not')**"
   ]
  },
  {
   "cell_type": "code",
   "execution_count": null,
   "id": "1720bac7",
   "metadata": {},
   "outputs": [],
   "source": [
    "print(np.logical_not(a))"
   ]
  },
  {
   "cell_type": "code",
   "execution_count": null,
   "id": "fe7a81a1",
   "metadata": {},
   "outputs": [],
   "source": [
    "# Alternative \n",
    "a != b"
   ]
  },
  {
   "cell_type": "markdown",
   "id": "90f2dca7",
   "metadata": {},
   "source": [
    "**Logical XOR ('np.logical_xor'):**\n",
    "\n",
    "The term \"XOR\" stands for \"Exclusive OR.\" It's a logical operation that takes two Boolean inputs and returns true if exactly one of its inputs is true and false otherwise.\n",
    "\n",
    "- If both inputs are False, XOR returns False.\n",
    "- If one input is True and the other is False, XOR returns True.\n",
    "- If both inputs are True, XOR returns False.\n",
    "\n",
    "This behavior can be summed up with the statement: \"XOR returns true if the number of true inputs is odd; otherwise, it returns false.\""
   ]
  },
  {
   "cell_type": "code",
   "execution_count": null,
   "id": "49b1e1a6",
   "metadata": {},
   "outputs": [],
   "source": [
    "print(np.logical_xor(a, b))"
   ]
  },
  {
   "cell_type": "markdown",
   "id": "0c16bfd5",
   "metadata": {},
   "source": [
    "**Comparisons**\n",
    "\n",
    "You can use comparison operations directly, like **<**, **>**, **==**, and **!=**, or their NumPy equivalents **np.less**, **np.greater**, etc."
   ]
  },
  {
   "cell_type": "markdown",
   "id": "c3688471",
   "metadata": {},
   "source": [
    "**Element-wise Comparisons:**\n",
    "\n"
   ]
  },
  {
   "cell_type": "code",
   "execution_count": null,
   "id": "010d000a",
   "metadata": {},
   "outputs": [],
   "source": [
    "a = np.array([1,2,3])\n",
    "b = np.array([1,2,4])"
   ]
  },
  {
   "cell_type": "code",
   "execution_count": null,
   "id": "2df91f5f",
   "metadata": {},
   "outputs": [],
   "source": [
    "a == b  # or np.equal(a, b)"
   ]
  },
  {
   "cell_type": "code",
   "execution_count": null,
   "id": "7c5def15",
   "metadata": {},
   "outputs": [],
   "source": [
    "a != b # or np.not_equal(a, b)"
   ]
  },
  {
   "cell_type": "code",
   "execution_count": null,
   "id": "06794b05",
   "metadata": {},
   "outputs": [],
   "source": [
    "a < b # or np.less(a, b)"
   ]
  },
  {
   "cell_type": "code",
   "execution_count": null,
   "id": "6bfae7a7",
   "metadata": {},
   "outputs": [],
   "source": [
    "a > b # np.greater(a,b)"
   ]
  },
  {
   "cell_type": "code",
   "execution_count": null,
   "id": "9ccc17a0",
   "metadata": {},
   "outputs": [],
   "source": [
    "a >= b # or np.greater_equal(a, b)"
   ]
  },
  {
   "cell_type": "code",
   "execution_count": null,
   "id": "14040196",
   "metadata": {},
   "outputs": [],
   "source": [
    "a <= b # or np.less_equal(a, b)"
   ]
  },
  {
   "cell_type": "markdown",
   "id": "b81aae46",
   "metadata": {},
   "source": [
    "**Array-wise Comparisons:**\n",
    "These functions evaluate the \"equivalence\" of two arrays."
   ]
  },
  {
   "cell_type": "markdown",
   "id": "d7361a76",
   "metadata": {},
   "source": [
    "- **'np.array_equal()'** Compares if two arrays are the same shape and elements are equal.\n",
    "- **'np.array_equiv()'** Compares if two arrays are broadcastable to the same shape and elements are equal.\n",
    "\n",
    "**Note:** When performing comparisons involving **NaN** (Not a Number), the result is always **False** for equality and **True** for inequality, even when comparing **NaN** with itself. If you need to detect NaN, use **np.isnan.**"
   ]
  },
  {
   "cell_type": "code",
   "execution_count": null,
   "id": "e3e024ec",
   "metadata": {},
   "outputs": [],
   "source": [
    "a = np.array([1,2,3])\n",
    "b = np.array([1,2,4])\n",
    "check = np.array_equal(a, b)\n",
    "print(check) "
   ]
  },
  {
   "cell_type": "code",
   "execution_count": null,
   "id": "77e5a9db",
   "metadata": {},
   "outputs": [],
   "source": [
    "a = np.array([1, 2])\n",
    "b = np.array([[1, 2], [1, 2]])\n",
    "check = np.array_equiv(a, b)\n",
    "print(check)"
   ]
  },
  {
   "cell_type": "code",
   "execution_count": null,
   "id": "06442ff1",
   "metadata": {},
   "outputs": [],
   "source": [
    "a = np.array([1,2, np.nan, 4])\n",
    "a = np.array([1.0, np.nan])\n",
    "b = np.array([1.0, np.nan])\n",
    "\n",
    "result = np.array_equal(a, b)\n",
    "print(result)"
   ]
  },
  {
   "cell_type": "code",
   "execution_count": null,
   "id": "47835b7d",
   "metadata": {},
   "outputs": [],
   "source": [
    "a = np.array([1.0, np.nan])\n",
    "b = np.array([[1.0, np.nan], [1.0, np.nan]])\n",
    "\n",
    "result = np.array_equiv(a, b)\n",
    "print(result)"
   ]
  },
  {
   "cell_type": "code",
   "execution_count": null,
   "id": "16e06f69",
   "metadata": {},
   "outputs": [],
   "source": [
    "np.isnan(a)"
   ]
  },
  {
   "cell_type": "markdown",
   "id": "9a519f5f",
   "metadata": {},
   "source": [
    "**Boolean Indexing:** Using boolean mask to index or filter the data"
   ]
  },
  {
   "cell_type": "code",
   "execution_count": null,
   "id": "e1cc86e1",
   "metadata": {},
   "outputs": [],
   "source": [
    "data = np.array([20, 30, 50, 100, 200])\n",
    "mask = data > 30\n",
    "print(data[mask])"
   ]
  },
  {
   "cell_type": "markdown",
   "id": "4a0791aa",
   "metadata": {},
   "source": [
    "### Linear Algebra"
   ]
  },
  {
   "cell_type": "markdown",
   "id": "8f8a627b",
   "metadata": {},
   "source": [
    "**Decompositions**\n",
    "\n",
    "- **Eigenvalues and Eigenvectors:**"
   ]
  },
  {
   "cell_type": "code",
   "execution_count": null,
   "id": "fb9a17d3",
   "metadata": {},
   "outputs": [],
   "source": [
    "values, vectors = np.linalg.eig(a)\n",
    "print(values)\n",
    "print(vectors)"
   ]
  },
  {
   "cell_type": "code",
   "execution_count": null,
   "id": "d0eca5a5",
   "metadata": {},
   "outputs": [],
   "source": [
    "matrix_A = np.array([[2, 1], [1, 3]])\n",
    "eigenvalues, eigenvectors = np.linalg.eig(matrix_A)\n",
    "print(eigenvalues)\n",
    "print(eigenvectors)"
   ]
  },
  {
   "cell_type": "markdown",
   "id": "7f2aba77",
   "metadata": {},
   "source": [
    "- **Singular Value Decomposition (SVD):**"
   ]
  },
  {
   "cell_type": "code",
   "execution_count": null,
   "id": "4119fd10",
   "metadata": {},
   "outputs": [],
   "source": [
    "U, s, VT = np.linalg.svd(a)\n"
   ]
  },
  {
   "cell_type": "code",
   "execution_count": null,
   "id": "370e6646",
   "metadata": {},
   "outputs": [],
   "source": [
    "U, s, VT"
   ]
  },
  {
   "cell_type": "markdown",
   "id": "dfa39bca",
   "metadata": {},
   "source": [
    "**Matrix Norms and Inversion**\n",
    "\n",
    "- **Norm:**"
   ]
  },
  {
   "cell_type": "code",
   "execution_count": null,
   "id": "f5d3cc4a",
   "metadata": {},
   "outputs": [],
   "source": [
    "print(np.linalg.norm(a))\n"
   ]
  },
  {
   "cell_type": "markdown",
   "id": "686f00b0",
   "metadata": {},
   "source": [
    "- **Determinant:**"
   ]
  },
  {
   "cell_type": "code",
   "execution_count": null,
   "id": "bc3f395d",
   "metadata": {},
   "outputs": [],
   "source": [
    "print(np.linalg.det(a))\n"
   ]
  },
  {
   "cell_type": "markdown",
   "id": "34e25c66",
   "metadata": {},
   "source": [
    "- **Inverse:**"
   ]
  },
  {
   "cell_type": "code",
   "execution_count": null,
   "id": "e456ea2e",
   "metadata": {},
   "outputs": [],
   "source": [
    "if np.linalg.det(a) != 0:\n",
    "    print(np.linalg.inv(a))"
   ]
  },
  {
   "cell_type": "markdown",
   "id": "17644d0a",
   "metadata": {},
   "source": [
    "**Solving Linear Systems:**"
   ]
  },
  {
   "cell_type": "code",
   "execution_count": null,
   "id": "5c4060ea",
   "metadata": {},
   "outputs": [],
   "source": [
    "coefficients = np.array([[1, 2], [3, 4]])\n",
    "constants = np.array([1, 2])\n",
    "solution = np.linalg.solve(coefficients, constants)\n",
    "print(solution)"
   ]
  },
  {
   "cell_type": "markdown",
   "id": "3961783e",
   "metadata": {},
   "source": [
    "Logical operations in NumPy help efficiently manipulate data based on conditions and generate insights. On the other hand, the vast linear algebra functionalities are integral for many advanced applications in data science, machine learning, physics, and more. Having a grasp of these operations opens doors to powerful numerical computations and analyses"
   ]
  },
  {
   "cell_type": "code",
   "execution_count": null,
   "id": "fc3e777b",
   "metadata": {},
   "outputs": [],
   "source": []
  }
 ],
 "metadata": {
  "kernelspec": {
   "display_name": "Python 3 (ipykernel)",
   "language": "python",
   "name": "python3"
  },
  "language_info": {
   "codemirror_mode": {
    "name": "ipython",
    "version": 3
   },
   "file_extension": ".py",
   "mimetype": "text/x-python",
   "name": "python",
   "nbconvert_exporter": "python",
   "pygments_lexer": "ipython3",
   "version": "3.11.7"
  }
 },
 "nbformat": 4,
 "nbformat_minor": 5
}
